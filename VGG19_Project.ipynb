{
  "cells": [
    {
      "cell_type": "markdown",
      "metadata": {
        "id": "xN8Kvh67Ffo9"
      },
      "source": [
        "#Dataset"
      ]
    },
    {
      "cell_type": "code",
      "execution_count": 19,
      "metadata": {
        "id": "9RYQIJ9C6BVH"
      },
      "outputs": [],
      "source": [
        "import cv2 # OpenCV\n",
        "import numpy as np\n",
        "import matplotlib.pyplot as plt\n",
        "import keras\n",
        "import tensorflow as tf\n",
        "import os\n",
        "import tensorflow_datasets as tfds\n",
        "import pandas as pd\n"
      ]
    },
    {
      "cell_type": "markdown",
      "metadata": {},
      "source": [
        "# Load Dataset"
      ]
    },
    {
      "cell_type": "code",
      "execution_count": 4,
      "metadata": {
        "colab": {
          "base_uri": "https://localhost:8080/"
        },
        "id": "y1A6k2MJJ1EO",
        "outputId": "3c551e0a-b83c-4893-b6f1-315fd856931f"
      },
      "outputs": [],
      "source": [
        "path = \"FULL\"\n"
      ]
    },
    {
      "cell_type": "markdown",
      "metadata": {
        "id": "IatwWHS6akyu"
      },
      "source": [
        "PAKE KERAS"
      ]
    },
    {
      "cell_type": "code",
      "execution_count": 5,
      "metadata": {
        "colab": {
          "base_uri": "https://localhost:8080/"
        },
        "id": "ue6GBP_Aarbd",
        "outputId": "d6726011-6e67-42a4-fc4e-bd86202b0d5f"
      },
      "outputs": [
        {
          "name": "stdout",
          "output_type": "stream",
          "text": [
            "Found 15923 images belonging to 7 classes.\n",
            "Found 7951 images belonging to 9 classes.\n"
          ]
        }
      ],
      "source": [
        "train_datagen = tf.keras.preprocessing.image.ImageDataGenerator(rescale=1./255,\n",
        "                                   horizontal_flip=True,\n",
        "                                   validation_split=0.5)\n",
        "training_set = train_datagen.flow_from_directory(path+\"/train\",\n",
        "                                                batch_size=64,\n",
        "                                                target_size=(224,224),\n",
        "                                                shuffle=True,\n",
        "                                                class_mode='categorical',\n",
        "                                                subset='training')\n",
        "\n",
        "validation_datagen = tf.keras.preprocessing.image.ImageDataGenerator(rescale=1./255,\n",
        "                                   horizontal_flip=True)\n",
        "validation_set = train_datagen.flow_from_directory(path+\"/test\",\n",
        "                                                batch_size=64,\n",
        "                                                target_size=(224,224),\n",
        "                                                shuffle=True,\n",
        "\n",
        "                                                class_mode='categorical',\n",
        "                                                subset='training')"
      ]
    },
    {
      "cell_type": "markdown",
      "metadata": {},
      "source": [
        "# Model"
      ]
    },
    {
      "cell_type": "markdown",
      "metadata": {
        "id": "g3rjlUrhJyJT"
      },
      "source": [
        "## Model FineTuning"
      ]
    },
    {
      "cell_type": "code",
      "execution_count": 6,
      "metadata": {
        "colab": {
          "base_uri": "https://localhost:8080/"
        },
        "id": "eINKLirvJyJU",
        "outputId": "4f6a159e-ad23-4abc-e285-855c457cbc15"
      },
      "outputs": [
        {
          "name": "stdout",
          "output_type": "stream",
          "text": [
            "22\n"
          ]
        }
      ],
      "source": [
        "VGG19=tf.keras.applications.vgg19.VGG19(\n",
        "    include_top=False,\n",
        "    weights='imagenet',\n",
        "    input_tensor=None,\n",
        "    input_shape=None,\n",
        "    pooling=None\n",
        ")\n",
        "VGG19.trainable = True\n",
        "print(len(VGG19.layers))"
      ]
    },
    {
      "cell_type": "code",
      "execution_count": 7,
      "metadata": {
        "colab": {
          "base_uri": "https://localhost:8080/",
          "height": 1000
        },
        "id": "rPOndbKUKLI4",
        "outputId": "d82b4192-7435-47ae-b265-f7561f9318f4"
      },
      "outputs": [
        {
          "name": "stdout",
          "output_type": "stream",
          "text": [
            "You must install pydot (`pip install pydot`) for `plot_model` to work.\n"
          ]
        }
      ],
      "source": [
        "tf.keras.utils.plot_model(VGG19, show_shapes=True, dpi=76, to_file='model_v1.png')"
      ]
    },
    {
      "cell_type": "code",
      "execution_count": 8,
      "metadata": {
        "id": "z7tG5U13JyJU"
      },
      "outputs": [],
      "source": [
        "i = 0\n",
        "for layer in VGG19.layers:\n",
        "  if i > 12:\n",
        "    layer.trainable = False\n",
        "  i+=1"
      ]
    },
    {
      "cell_type": "code",
      "execution_count": 9,
      "metadata": {
        "colab": {
          "base_uri": "https://localhost:8080/"
        },
        "id": "qyDmPvW0JyJU",
        "outputId": "27407700-ff11-44f6-a77b-e4d18a1d8366"
      },
      "outputs": [],
      "source": [
        "# Data Augmentation\n",
        "data_augmentation = tf.keras.Sequential([\n",
        "    tf.keras.layers.RandomRotation(0.2),  # Rotate up to 20 degrees\n",
        "    tf.keras.layers.RandomTranslation(0.1, 0.15),  # Translate 10% width, 15% height\n",
        "    tf.keras.layers.RandomBrightness(factor=[0.2, 1.0]),  # Change brightness between 0.2 and 1\n",
        "    tf.keras.layers.RandomZoom(height_factor=(-0.1, 0.2), width_factor=(-0.1, 0.2)),  # Zoom out up to 10%, zoom in up to 20%\n",
        "    tf.keras.layers.RandomFlip(\"horizontal\"),  # Flip horizontally\n",
        "])\n",
        "\n",
        "input = tf.keras.layers.Input(shape=(224, 224, 3))\n",
        "# Apply data augmentation to the input\n",
        "x = data_augmentation(input)\n",
        "x = VGG19(input, training=False)\n",
        "x = tf.keras.layers.AveragePooling2D((2,2), padding = 'same')(x)\n",
        "x = tf.keras.layers.Flatten()(x)\n",
        "x = tf.keras.layers.Dense(7, activation = 'softmax')(x)\n",
        "VGG19 = tf.keras.models.Model(inputs = input, outputs = x, name = \"VGG19\")"
      ]
    },
    {
      "cell_type": "code",
      "execution_count": 10,
      "metadata": {},
      "outputs": [
        {
          "data": {
            "text/html": [
              "<pre style=\"white-space:pre;overflow-x:auto;line-height:normal;font-family:Menlo,'DejaVu Sans Mono',consolas,'Courier New',monospace\"><span style=\"font-weight: bold\">Model: \"VGG19\"</span>\n",
              "</pre>\n"
            ],
            "text/plain": [
              "\u001b[1mModel: \"VGG19\"\u001b[0m\n"
            ]
          },
          "metadata": {},
          "output_type": "display_data"
        },
        {
          "data": {
            "text/html": [
              "<pre style=\"white-space:pre;overflow-x:auto;line-height:normal;font-family:Menlo,'DejaVu Sans Mono',consolas,'Courier New',monospace\">┏━━━━━━━━━━━━━━━━━━━━━━━━━━━━━━━━━┳━━━━━━━━━━━━━━━━━━━━━━━━┳━━━━━━━━━━━━━━━┓\n",
              "┃<span style=\"font-weight: bold\"> Layer (type)                    </span>┃<span style=\"font-weight: bold\"> Output Shape           </span>┃<span style=\"font-weight: bold\">       Param # </span>┃\n",
              "┡━━━━━━━━━━━━━━━━━━━━━━━━━━━━━━━━━╇━━━━━━━━━━━━━━━━━━━━━━━━╇━━━━━━━━━━━━━━━┩\n",
              "│ input_layer_1 (<span style=\"color: #0087ff; text-decoration-color: #0087ff\">InputLayer</span>)      │ (<span style=\"color: #00d7ff; text-decoration-color: #00d7ff\">None</span>, <span style=\"color: #00af00; text-decoration-color: #00af00\">224</span>, <span style=\"color: #00af00; text-decoration-color: #00af00\">224</span>, <span style=\"color: #00af00; text-decoration-color: #00af00\">3</span>)    │             <span style=\"color: #00af00; text-decoration-color: #00af00\">0</span> │\n",
              "├─────────────────────────────────┼────────────────────────┼───────────────┤\n",
              "│ vgg19 (<span style=\"color: #0087ff; text-decoration-color: #0087ff\">Functional</span>)              │ (<span style=\"color: #00d7ff; text-decoration-color: #00d7ff\">None</span>, <span style=\"color: #00af00; text-decoration-color: #00af00\">7</span>, <span style=\"color: #00af00; text-decoration-color: #00af00\">7</span>, <span style=\"color: #00af00; text-decoration-color: #00af00\">512</span>)      │    <span style=\"color: #00af00; text-decoration-color: #00af00\">20,024,384</span> │\n",
              "├─────────────────────────────────┼────────────────────────┼───────────────┤\n",
              "│ average_pooling2d               │ (<span style=\"color: #00d7ff; text-decoration-color: #00d7ff\">None</span>, <span style=\"color: #00af00; text-decoration-color: #00af00\">4</span>, <span style=\"color: #00af00; text-decoration-color: #00af00\">4</span>, <span style=\"color: #00af00; text-decoration-color: #00af00\">512</span>)      │             <span style=\"color: #00af00; text-decoration-color: #00af00\">0</span> │\n",
              "│ (<span style=\"color: #0087ff; text-decoration-color: #0087ff\">AveragePooling2D</span>)              │                        │               │\n",
              "├─────────────────────────────────┼────────────────────────┼───────────────┤\n",
              "│ flatten (<span style=\"color: #0087ff; text-decoration-color: #0087ff\">Flatten</span>)               │ (<span style=\"color: #00d7ff; text-decoration-color: #00d7ff\">None</span>, <span style=\"color: #00af00; text-decoration-color: #00af00\">8192</span>)           │             <span style=\"color: #00af00; text-decoration-color: #00af00\">0</span> │\n",
              "├─────────────────────────────────┼────────────────────────┼───────────────┤\n",
              "│ dense (<span style=\"color: #0087ff; text-decoration-color: #0087ff\">Dense</span>)                   │ (<span style=\"color: #00d7ff; text-decoration-color: #00d7ff\">None</span>, <span style=\"color: #00af00; text-decoration-color: #00af00\">7</span>)              │        <span style=\"color: #00af00; text-decoration-color: #00af00\">57,351</span> │\n",
              "└─────────────────────────────────┴────────────────────────┴───────────────┘\n",
              "</pre>\n"
            ],
            "text/plain": [
              "┏━━━━━━━━━━━━━━━━━━━━━━━━━━━━━━━━━┳━━━━━━━━━━━━━━━━━━━━━━━━┳━━━━━━━━━━━━━━━┓\n",
              "┃\u001b[1m \u001b[0m\u001b[1mLayer (type)                   \u001b[0m\u001b[1m \u001b[0m┃\u001b[1m \u001b[0m\u001b[1mOutput Shape          \u001b[0m\u001b[1m \u001b[0m┃\u001b[1m \u001b[0m\u001b[1m      Param #\u001b[0m\u001b[1m \u001b[0m┃\n",
              "┡━━━━━━━━━━━━━━━━━━━━━━━━━━━━━━━━━╇━━━━━━━━━━━━━━━━━━━━━━━━╇━━━━━━━━━━━━━━━┩\n",
              "│ input_layer_1 (\u001b[38;5;33mInputLayer\u001b[0m)      │ (\u001b[38;5;45mNone\u001b[0m, \u001b[38;5;34m224\u001b[0m, \u001b[38;5;34m224\u001b[0m, \u001b[38;5;34m3\u001b[0m)    │             \u001b[38;5;34m0\u001b[0m │\n",
              "├─────────────────────────────────┼────────────────────────┼───────────────┤\n",
              "│ vgg19 (\u001b[38;5;33mFunctional\u001b[0m)              │ (\u001b[38;5;45mNone\u001b[0m, \u001b[38;5;34m7\u001b[0m, \u001b[38;5;34m7\u001b[0m, \u001b[38;5;34m512\u001b[0m)      │    \u001b[38;5;34m20,024,384\u001b[0m │\n",
              "├─────────────────────────────────┼────────────────────────┼───────────────┤\n",
              "│ average_pooling2d               │ (\u001b[38;5;45mNone\u001b[0m, \u001b[38;5;34m4\u001b[0m, \u001b[38;5;34m4\u001b[0m, \u001b[38;5;34m512\u001b[0m)      │             \u001b[38;5;34m0\u001b[0m │\n",
              "│ (\u001b[38;5;33mAveragePooling2D\u001b[0m)              │                        │               │\n",
              "├─────────────────────────────────┼────────────────────────┼───────────────┤\n",
              "│ flatten (\u001b[38;5;33mFlatten\u001b[0m)               │ (\u001b[38;5;45mNone\u001b[0m, \u001b[38;5;34m8192\u001b[0m)           │             \u001b[38;5;34m0\u001b[0m │\n",
              "├─────────────────────────────────┼────────────────────────┼───────────────┤\n",
              "│ dense (\u001b[38;5;33mDense\u001b[0m)                   │ (\u001b[38;5;45mNone\u001b[0m, \u001b[38;5;34m7\u001b[0m)              │        \u001b[38;5;34m57,351\u001b[0m │\n",
              "└─────────────────────────────────┴────────────────────────┴───────────────┘\n"
            ]
          },
          "metadata": {},
          "output_type": "display_data"
        },
        {
          "data": {
            "text/html": [
              "<pre style=\"white-space:pre;overflow-x:auto;line-height:normal;font-family:Menlo,'DejaVu Sans Mono',consolas,'Courier New',monospace\"><span style=\"font-weight: bold\"> Total params: </span><span style=\"color: #00af00; text-decoration-color: #00af00\">20,081,735</span> (76.61 MB)\n",
              "</pre>\n"
            ],
            "text/plain": [
              "\u001b[1m Total params: \u001b[0m\u001b[38;5;34m20,081,735\u001b[0m (76.61 MB)\n"
            ]
          },
          "metadata": {},
          "output_type": "display_data"
        },
        {
          "data": {
            "text/html": [
              "<pre style=\"white-space:pre;overflow-x:auto;line-height:normal;font-family:Menlo,'DejaVu Sans Mono',consolas,'Courier New',monospace\"><span style=\"font-weight: bold\"> Trainable params: </span><span style=\"color: #00af00; text-decoration-color: #00af00\">3,563,079</span> (13.59 MB)\n",
              "</pre>\n"
            ],
            "text/plain": [
              "\u001b[1m Trainable params: \u001b[0m\u001b[38;5;34m3,563,079\u001b[0m (13.59 MB)\n"
            ]
          },
          "metadata": {},
          "output_type": "display_data"
        },
        {
          "data": {
            "text/html": [
              "<pre style=\"white-space:pre;overflow-x:auto;line-height:normal;font-family:Menlo,'DejaVu Sans Mono',consolas,'Courier New',monospace\"><span style=\"font-weight: bold\"> Non-trainable params: </span><span style=\"color: #00af00; text-decoration-color: #00af00\">16,518,656</span> (63.01 MB)\n",
              "</pre>\n"
            ],
            "text/plain": [
              "\u001b[1m Non-trainable params: \u001b[0m\u001b[38;5;34m16,518,656\u001b[0m (63.01 MB)\n"
            ]
          },
          "metadata": {},
          "output_type": "display_data"
        }
      ],
      "source": [
        "VGG19.summary()"
      ]
    },
    {
      "cell_type": "markdown",
      "metadata": {},
      "source": [
        "## Model Reverse"
      ]
    },
    {
      "cell_type": "code",
      "execution_count": 27,
      "metadata": {},
      "outputs": [
        {
          "name": "stdout",
          "output_type": "stream",
          "text": [
            "22\n"
          ]
        }
      ],
      "source": [
        "VGG19=tf.keras.applications.vgg19.VGG19(\n",
        "    include_top=False,\n",
        "    weights='imagenet',\n",
        "    input_tensor=None,\n",
        "    input_shape=None,\n",
        "    pooling=None\n",
        ")\n",
        "VGG19.trainable = True\n",
        "print(len(VGG19.layers))"
      ]
    },
    {
      "cell_type": "code",
      "execution_count": 28,
      "metadata": {},
      "outputs": [],
      "source": [
        "i = 0\n",
        "for layer in VGG19.layers:\n",
        "  if i < 12:\n",
        "    layer.trainable = False\n",
        "  i+=1"
      ]
    },
    {
      "cell_type": "code",
      "execution_count": 29,
      "metadata": {},
      "outputs": [
        {
          "data": {
            "text/html": [
              "<pre style=\"white-space:pre;overflow-x:auto;line-height:normal;font-family:Menlo,'DejaVu Sans Mono',consolas,'Courier New',monospace\"><span style=\"font-weight: bold\">Model: \"VGG19\"</span>\n",
              "</pre>\n"
            ],
            "text/plain": [
              "\u001b[1mModel: \"VGG19\"\u001b[0m\n"
            ]
          },
          "metadata": {},
          "output_type": "display_data"
        },
        {
          "data": {
            "text/html": [
              "<pre style=\"white-space:pre;overflow-x:auto;line-height:normal;font-family:Menlo,'DejaVu Sans Mono',consolas,'Courier New',monospace\">┏━━━━━━━━━━━━━━━━━━━━━━━━━━━━━━━━━┳━━━━━━━━━━━━━━━━━━━━━━━━┳━━━━━━━━━━━━━━━┓\n",
              "┃<span style=\"font-weight: bold\"> Layer (type)                    </span>┃<span style=\"font-weight: bold\"> Output Shape           </span>┃<span style=\"font-weight: bold\">       Param # </span>┃\n",
              "┡━━━━━━━━━━━━━━━━━━━━━━━━━━━━━━━━━╇━━━━━━━━━━━━━━━━━━━━━━━━╇━━━━━━━━━━━━━━━┩\n",
              "│ input_layer_5 (<span style=\"color: #0087ff; text-decoration-color: #0087ff\">InputLayer</span>)      │ (<span style=\"color: #00d7ff; text-decoration-color: #00d7ff\">None</span>, <span style=\"color: #00af00; text-decoration-color: #00af00\">224</span>, <span style=\"color: #00af00; text-decoration-color: #00af00\">224</span>, <span style=\"color: #00af00; text-decoration-color: #00af00\">3</span>)    │             <span style=\"color: #00af00; text-decoration-color: #00af00\">0</span> │\n",
              "├─────────────────────────────────┼────────────────────────┼───────────────┤\n",
              "│ vgg19 (<span style=\"color: #0087ff; text-decoration-color: #0087ff\">Functional</span>)              │ (<span style=\"color: #00d7ff; text-decoration-color: #00d7ff\">None</span>, <span style=\"color: #00af00; text-decoration-color: #00af00\">7</span>, <span style=\"color: #00af00; text-decoration-color: #00af00\">7</span>, <span style=\"color: #00af00; text-decoration-color: #00af00\">512</span>)      │    <span style=\"color: #00af00; text-decoration-color: #00af00\">20,024,384</span> │\n",
              "├─────────────────────────────────┼────────────────────────┼───────────────┤\n",
              "│ average_pooling2d_1             │ (<span style=\"color: #00d7ff; text-decoration-color: #00d7ff\">None</span>, <span style=\"color: #00af00; text-decoration-color: #00af00\">4</span>, <span style=\"color: #00af00; text-decoration-color: #00af00\">4</span>, <span style=\"color: #00af00; text-decoration-color: #00af00\">512</span>)      │             <span style=\"color: #00af00; text-decoration-color: #00af00\">0</span> │\n",
              "│ (<span style=\"color: #0087ff; text-decoration-color: #0087ff\">AveragePooling2D</span>)              │                        │               │\n",
              "├─────────────────────────────────┼────────────────────────┼───────────────┤\n",
              "│ flatten_1 (<span style=\"color: #0087ff; text-decoration-color: #0087ff\">Flatten</span>)             │ (<span style=\"color: #00d7ff; text-decoration-color: #00d7ff\">None</span>, <span style=\"color: #00af00; text-decoration-color: #00af00\">8192</span>)           │             <span style=\"color: #00af00; text-decoration-color: #00af00\">0</span> │\n",
              "├─────────────────────────────────┼────────────────────────┼───────────────┤\n",
              "│ dense_1 (<span style=\"color: #0087ff; text-decoration-color: #0087ff\">Dense</span>)                 │ (<span style=\"color: #00d7ff; text-decoration-color: #00d7ff\">None</span>, <span style=\"color: #00af00; text-decoration-color: #00af00\">7</span>)              │        <span style=\"color: #00af00; text-decoration-color: #00af00\">57,351</span> │\n",
              "└─────────────────────────────────┴────────────────────────┴───────────────┘\n",
              "</pre>\n"
            ],
            "text/plain": [
              "┏━━━━━━━━━━━━━━━━━━━━━━━━━━━━━━━━━┳━━━━━━━━━━━━━━━━━━━━━━━━┳━━━━━━━━━━━━━━━┓\n",
              "┃\u001b[1m \u001b[0m\u001b[1mLayer (type)                   \u001b[0m\u001b[1m \u001b[0m┃\u001b[1m \u001b[0m\u001b[1mOutput Shape          \u001b[0m\u001b[1m \u001b[0m┃\u001b[1m \u001b[0m\u001b[1m      Param #\u001b[0m\u001b[1m \u001b[0m┃\n",
              "┡━━━━━━━━━━━━━━━━━━━━━━━━━━━━━━━━━╇━━━━━━━━━━━━━━━━━━━━━━━━╇━━━━━━━━━━━━━━━┩\n",
              "│ input_layer_5 (\u001b[38;5;33mInputLayer\u001b[0m)      │ (\u001b[38;5;45mNone\u001b[0m, \u001b[38;5;34m224\u001b[0m, \u001b[38;5;34m224\u001b[0m, \u001b[38;5;34m3\u001b[0m)    │             \u001b[38;5;34m0\u001b[0m │\n",
              "├─────────────────────────────────┼────────────────────────┼───────────────┤\n",
              "│ vgg19 (\u001b[38;5;33mFunctional\u001b[0m)              │ (\u001b[38;5;45mNone\u001b[0m, \u001b[38;5;34m7\u001b[0m, \u001b[38;5;34m7\u001b[0m, \u001b[38;5;34m512\u001b[0m)      │    \u001b[38;5;34m20,024,384\u001b[0m │\n",
              "├─────────────────────────────────┼────────────────────────┼───────────────┤\n",
              "│ average_pooling2d_1             │ (\u001b[38;5;45mNone\u001b[0m, \u001b[38;5;34m4\u001b[0m, \u001b[38;5;34m4\u001b[0m, \u001b[38;5;34m512\u001b[0m)      │             \u001b[38;5;34m0\u001b[0m │\n",
              "│ (\u001b[38;5;33mAveragePooling2D\u001b[0m)              │                        │               │\n",
              "├─────────────────────────────────┼────────────────────────┼───────────────┤\n",
              "│ flatten_1 (\u001b[38;5;33mFlatten\u001b[0m)             │ (\u001b[38;5;45mNone\u001b[0m, \u001b[38;5;34m8192\u001b[0m)           │             \u001b[38;5;34m0\u001b[0m │\n",
              "├─────────────────────────────────┼────────────────────────┼───────────────┤\n",
              "│ dense_1 (\u001b[38;5;33mDense\u001b[0m)                 │ (\u001b[38;5;45mNone\u001b[0m, \u001b[38;5;34m7\u001b[0m)              │        \u001b[38;5;34m57,351\u001b[0m │\n",
              "└─────────────────────────────────┴────────────────────────┴───────────────┘\n"
            ]
          },
          "metadata": {},
          "output_type": "display_data"
        },
        {
          "data": {
            "text/html": [
              "<pre style=\"white-space:pre;overflow-x:auto;line-height:normal;font-family:Menlo,'DejaVu Sans Mono',consolas,'Courier New',monospace\"><span style=\"font-weight: bold\"> Total params: </span><span style=\"color: #00af00; text-decoration-color: #00af00\">20,081,735</span> (76.61 MB)\n",
              "</pre>\n"
            ],
            "text/plain": [
              "\u001b[1m Total params: \u001b[0m\u001b[38;5;34m20,081,735\u001b[0m (76.61 MB)\n"
            ]
          },
          "metadata": {},
          "output_type": "display_data"
        },
        {
          "data": {
            "text/html": [
              "<pre style=\"white-space:pre;overflow-x:auto;line-height:normal;font-family:Menlo,'DejaVu Sans Mono',consolas,'Courier New',monospace\"><span style=\"font-weight: bold\"> Trainable params: </span><span style=\"color: #00af00; text-decoration-color: #00af00\">17,756,167</span> (67.73 MB)\n",
              "</pre>\n"
            ],
            "text/plain": [
              "\u001b[1m Trainable params: \u001b[0m\u001b[38;5;34m17,756,167\u001b[0m (67.73 MB)\n"
            ]
          },
          "metadata": {},
          "output_type": "display_data"
        },
        {
          "data": {
            "text/html": [
              "<pre style=\"white-space:pre;overflow-x:auto;line-height:normal;font-family:Menlo,'DejaVu Sans Mono',consolas,'Courier New',monospace\"><span style=\"font-weight: bold\"> Non-trainable params: </span><span style=\"color: #00af00; text-decoration-color: #00af00\">2,325,568</span> (8.87 MB)\n",
              "</pre>\n"
            ],
            "text/plain": [
              "\u001b[1m Non-trainable params: \u001b[0m\u001b[38;5;34m2,325,568\u001b[0m (8.87 MB)\n"
            ]
          },
          "metadata": {},
          "output_type": "display_data"
        }
      ],
      "source": [
        "# Data Augmentation\n",
        "data_augmentation = tf.keras.Sequential([\n",
        "    tf.keras.layers.RandomRotation(0.2),  # Rotate up to 20 degrees\n",
        "    tf.keras.layers.RandomTranslation(0.1, 0.15),  # Translate 10% width, 15% height\n",
        "    tf.keras.layers.RandomBrightness(factor=[0.2, 1.0]),  # Change brightness between 0.2 and 1\n",
        "    tf.keras.layers.RandomZoom(height_factor=(-0.1, 0.2), width_factor=(-0.1, 0.2)),  # Zoom out up to 10%, zoom in up to 20%\n",
        "    tf.keras.layers.RandomFlip(\"horizontal\"),  # Flip horizontally\n",
        "])\n",
        "\n",
        "input = tf.keras.layers.Input(shape=(224, 224, 3))\n",
        "# Apply data augmentation to the input\n",
        "x = data_augmentation(input)\n",
        "x = VGG19(input, training=False)\n",
        "x = tf.keras.layers.AveragePooling2D((2,2), padding = 'same')(x)\n",
        "x = tf.keras.layers.Flatten()(x)\n",
        "x = tf.keras.layers.Dense(7, activation = 'softmax')(x)\n",
        "VGG19 = tf.keras.models.Model(inputs = input, outputs = x, name = \"VGG19\")\n",
        "\n",
        "VGG19.summary()"
      ]
    },
    {
      "cell_type": "markdown",
      "metadata": {},
      "source": [
        "## Model Full Freeze`"
      ]
    },
    {
      "cell_type": "code",
      "execution_count": 31,
      "metadata": {},
      "outputs": [
        {
          "name": "stdout",
          "output_type": "stream",
          "text": [
            "22\n"
          ]
        }
      ],
      "source": [
        "VGG19=tf.keras.applications.vgg19.VGG19(\n",
        "    include_top=False,\n",
        "    weights='imagenet',\n",
        "    input_tensor=None,\n",
        "    input_shape=None,\n",
        "    pooling=None\n",
        ")\n",
        "VGG19.trainable = False\n",
        "print(len(VGG19.layers))"
      ]
    },
    {
      "cell_type": "code",
      "execution_count": 32,
      "metadata": {},
      "outputs": [
        {
          "data": {
            "text/html": [
              "<pre style=\"white-space:pre;overflow-x:auto;line-height:normal;font-family:Menlo,'DejaVu Sans Mono',consolas,'Courier New',monospace\"><span style=\"font-weight: bold\">Model: \"VGG19\"</span>\n",
              "</pre>\n"
            ],
            "text/plain": [
              "\u001b[1mModel: \"VGG19\"\u001b[0m\n"
            ]
          },
          "metadata": {},
          "output_type": "display_data"
        },
        {
          "data": {
            "text/html": [
              "<pre style=\"white-space:pre;overflow-x:auto;line-height:normal;font-family:Menlo,'DejaVu Sans Mono',consolas,'Courier New',monospace\">┏━━━━━━━━━━━━━━━━━━━━━━━━━━━━━━━━━┳━━━━━━━━━━━━━━━━━━━━━━━━┳━━━━━━━━━━━━━━━┓\n",
              "┃<span style=\"font-weight: bold\"> Layer (type)                    </span>┃<span style=\"font-weight: bold\"> Output Shape           </span>┃<span style=\"font-weight: bold\">       Param # </span>┃\n",
              "┡━━━━━━━━━━━━━━━━━━━━━━━━━━━━━━━━━╇━━━━━━━━━━━━━━━━━━━━━━━━╇━━━━━━━━━━━━━━━┩\n",
              "│ input_layer_9 (<span style=\"color: #0087ff; text-decoration-color: #0087ff\">InputLayer</span>)      │ (<span style=\"color: #00d7ff; text-decoration-color: #00d7ff\">None</span>, <span style=\"color: #00af00; text-decoration-color: #00af00\">224</span>, <span style=\"color: #00af00; text-decoration-color: #00af00\">224</span>, <span style=\"color: #00af00; text-decoration-color: #00af00\">3</span>)    │             <span style=\"color: #00af00; text-decoration-color: #00af00\">0</span> │\n",
              "├─────────────────────────────────┼────────────────────────┼───────────────┤\n",
              "│ vgg19 (<span style=\"color: #0087ff; text-decoration-color: #0087ff\">Functional</span>)              │ (<span style=\"color: #00d7ff; text-decoration-color: #00d7ff\">None</span>, <span style=\"color: #00af00; text-decoration-color: #00af00\">7</span>, <span style=\"color: #00af00; text-decoration-color: #00af00\">7</span>, <span style=\"color: #00af00; text-decoration-color: #00af00\">512</span>)      │    <span style=\"color: #00af00; text-decoration-color: #00af00\">20,024,384</span> │\n",
              "├─────────────────────────────────┼────────────────────────┼───────────────┤\n",
              "│ average_pooling2d_2             │ (<span style=\"color: #00d7ff; text-decoration-color: #00d7ff\">None</span>, <span style=\"color: #00af00; text-decoration-color: #00af00\">4</span>, <span style=\"color: #00af00; text-decoration-color: #00af00\">4</span>, <span style=\"color: #00af00; text-decoration-color: #00af00\">512</span>)      │             <span style=\"color: #00af00; text-decoration-color: #00af00\">0</span> │\n",
              "│ (<span style=\"color: #0087ff; text-decoration-color: #0087ff\">AveragePooling2D</span>)              │                        │               │\n",
              "├─────────────────────────────────┼────────────────────────┼───────────────┤\n",
              "│ flatten_2 (<span style=\"color: #0087ff; text-decoration-color: #0087ff\">Flatten</span>)             │ (<span style=\"color: #00d7ff; text-decoration-color: #00d7ff\">None</span>, <span style=\"color: #00af00; text-decoration-color: #00af00\">8192</span>)           │             <span style=\"color: #00af00; text-decoration-color: #00af00\">0</span> │\n",
              "├─────────────────────────────────┼────────────────────────┼───────────────┤\n",
              "│ dense_2 (<span style=\"color: #0087ff; text-decoration-color: #0087ff\">Dense</span>)                 │ (<span style=\"color: #00d7ff; text-decoration-color: #00d7ff\">None</span>, <span style=\"color: #00af00; text-decoration-color: #00af00\">7</span>)              │        <span style=\"color: #00af00; text-decoration-color: #00af00\">57,351</span> │\n",
              "└─────────────────────────────────┴────────────────────────┴───────────────┘\n",
              "</pre>\n"
            ],
            "text/plain": [
              "┏━━━━━━━━━━━━━━━━━━━━━━━━━━━━━━━━━┳━━━━━━━━━━━━━━━━━━━━━━━━┳━━━━━━━━━━━━━━━┓\n",
              "┃\u001b[1m \u001b[0m\u001b[1mLayer (type)                   \u001b[0m\u001b[1m \u001b[0m┃\u001b[1m \u001b[0m\u001b[1mOutput Shape          \u001b[0m\u001b[1m \u001b[0m┃\u001b[1m \u001b[0m\u001b[1m      Param #\u001b[0m\u001b[1m \u001b[0m┃\n",
              "┡━━━━━━━━━━━━━━━━━━━━━━━━━━━━━━━━━╇━━━━━━━━━━━━━━━━━━━━━━━━╇━━━━━━━━━━━━━━━┩\n",
              "│ input_layer_9 (\u001b[38;5;33mInputLayer\u001b[0m)      │ (\u001b[38;5;45mNone\u001b[0m, \u001b[38;5;34m224\u001b[0m, \u001b[38;5;34m224\u001b[0m, \u001b[38;5;34m3\u001b[0m)    │             \u001b[38;5;34m0\u001b[0m │\n",
              "├─────────────────────────────────┼────────────────────────┼───────────────┤\n",
              "│ vgg19 (\u001b[38;5;33mFunctional\u001b[0m)              │ (\u001b[38;5;45mNone\u001b[0m, \u001b[38;5;34m7\u001b[0m, \u001b[38;5;34m7\u001b[0m, \u001b[38;5;34m512\u001b[0m)      │    \u001b[38;5;34m20,024,384\u001b[0m │\n",
              "├─────────────────────────────────┼────────────────────────┼───────────────┤\n",
              "│ average_pooling2d_2             │ (\u001b[38;5;45mNone\u001b[0m, \u001b[38;5;34m4\u001b[0m, \u001b[38;5;34m4\u001b[0m, \u001b[38;5;34m512\u001b[0m)      │             \u001b[38;5;34m0\u001b[0m │\n",
              "│ (\u001b[38;5;33mAveragePooling2D\u001b[0m)              │                        │               │\n",
              "├─────────────────────────────────┼────────────────────────┼───────────────┤\n",
              "│ flatten_2 (\u001b[38;5;33mFlatten\u001b[0m)             │ (\u001b[38;5;45mNone\u001b[0m, \u001b[38;5;34m8192\u001b[0m)           │             \u001b[38;5;34m0\u001b[0m │\n",
              "├─────────────────────────────────┼────────────────────────┼───────────────┤\n",
              "│ dense_2 (\u001b[38;5;33mDense\u001b[0m)                 │ (\u001b[38;5;45mNone\u001b[0m, \u001b[38;5;34m7\u001b[0m)              │        \u001b[38;5;34m57,351\u001b[0m │\n",
              "└─────────────────────────────────┴────────────────────────┴───────────────┘\n"
            ]
          },
          "metadata": {},
          "output_type": "display_data"
        },
        {
          "data": {
            "text/html": [
              "<pre style=\"white-space:pre;overflow-x:auto;line-height:normal;font-family:Menlo,'DejaVu Sans Mono',consolas,'Courier New',monospace\"><span style=\"font-weight: bold\"> Total params: </span><span style=\"color: #00af00; text-decoration-color: #00af00\">20,081,735</span> (76.61 MB)\n",
              "</pre>\n"
            ],
            "text/plain": [
              "\u001b[1m Total params: \u001b[0m\u001b[38;5;34m20,081,735\u001b[0m (76.61 MB)\n"
            ]
          },
          "metadata": {},
          "output_type": "display_data"
        },
        {
          "data": {
            "text/html": [
              "<pre style=\"white-space:pre;overflow-x:auto;line-height:normal;font-family:Menlo,'DejaVu Sans Mono',consolas,'Courier New',monospace\"><span style=\"font-weight: bold\"> Trainable params: </span><span style=\"color: #00af00; text-decoration-color: #00af00\">57,351</span> (224.03 KB)\n",
              "</pre>\n"
            ],
            "text/plain": [
              "\u001b[1m Trainable params: \u001b[0m\u001b[38;5;34m57,351\u001b[0m (224.03 KB)\n"
            ]
          },
          "metadata": {},
          "output_type": "display_data"
        },
        {
          "data": {
            "text/html": [
              "<pre style=\"white-space:pre;overflow-x:auto;line-height:normal;font-family:Menlo,'DejaVu Sans Mono',consolas,'Courier New',monospace\"><span style=\"font-weight: bold\"> Non-trainable params: </span><span style=\"color: #00af00; text-decoration-color: #00af00\">20,024,384</span> (76.39 MB)\n",
              "</pre>\n"
            ],
            "text/plain": [
              "\u001b[1m Non-trainable params: \u001b[0m\u001b[38;5;34m20,024,384\u001b[0m (76.39 MB)\n"
            ]
          },
          "metadata": {},
          "output_type": "display_data"
        }
      ],
      "source": [
        "# Data Augmentation\n",
        "data_augmentation = tf.keras.Sequential([\n",
        "    tf.keras.layers.RandomRotation(0.2),  # Rotate up to 20 degrees\n",
        "    tf.keras.layers.RandomTranslation(0.1, 0.15),  # Translate 10% width, 15% height\n",
        "    tf.keras.layers.RandomBrightness(factor=[0.2, 1.0]),  # Change brightness between 0.2 and 1\n",
        "    tf.keras.layers.RandomZoom(height_factor=(-0.1, 0.2), width_factor=(-0.1, 0.2)),  # Zoom out up to 10%, zoom in up to 20%\n",
        "    tf.keras.layers.RandomFlip(\"horizontal\"),  # Flip horizontally\n",
        "])\n",
        "\n",
        "input = tf.keras.layers.Input(shape=(224, 224, 3))\n",
        "# Apply data augmentation to the input\n",
        "x = data_augmentation(input)\n",
        "x = VGG19(input, training=False)\n",
        "x = tf.keras.layers.AveragePooling2D((2,2), padding = 'same')(x)\n",
        "x = tf.keras.layers.Flatten()(x)\n",
        "x = tf.keras.layers.Dense(7, activation = 'softmax')(x)\n",
        "VGG19 = tf.keras.models.Model(inputs = input, outputs = x, name = \"VGG19\")\n",
        "\n",
        "VGG19.summary()"
      ]
    },
    {
      "cell_type": "markdown",
      "metadata": {},
      "source": [
        "# Training"
      ]
    },
    {
      "cell_type": "markdown",
      "metadata": {},
      "source": [
        "## Train Fine Tuning"
      ]
    },
    {
      "cell_type": "code",
      "execution_count": 10,
      "metadata": {
        "colab": {
          "base_uri": "https://localhost:8080/"
        },
        "id": "2NxTRDJvU9Pl",
        "outputId": "71b795bc-1f43-496f-c316-42f618ab5a36"
      },
      "outputs": [
        {
          "name": "stdout",
          "output_type": "stream",
          "text": [
            "Epoch 1/20\n",
            "\u001b[1m124/124\u001b[0m \u001b[32m━━━━━━━━━━━━━━━━━━━━\u001b[0m\u001b[37m\u001b[0m \u001b[1m1860s\u001b[0m 15s/step - accuracy: 0.1937 - loss: 1.9373 - val_accuracy: 0.2445 - val_loss: 1.8200\n",
            "Epoch 2/20\n",
            "\u001b[1m124/124\u001b[0m \u001b[32m━━━━━━━━━━━━━━━━━━━━\u001b[0m\u001b[37m\u001b[0m \u001b[1m1719s\u001b[0m 14s/step - accuracy: 0.2930 - loss: 1.7637 - val_accuracy: 0.3695 - val_loss: 1.6324\n",
            "Epoch 3/20\n",
            "\u001b[1m  1/124\u001b[0m \u001b[37m━━━━━━━━━━━━━━━━━━━━\u001b[0m \u001b[1m25:38\u001b[0m 13s/step - accuracy: 0.3438 - loss: 1.6477"
          ]
        },
        {
          "name": "stderr",
          "output_type": "stream",
          "text": [
            "c:\\Users\\mario\\AppData\\Local\\Programs\\Python\\Python310\\lib\\contextlib.py:153: UserWarning: Your input ran out of data; interrupting training. Make sure that your dataset or generator can generate at least `steps_per_epoch * epochs` batches. You may need to use the `.repeat()` function when building your dataset.\n",
            "  self.gen.throw(typ, value, traceback)\n"
          ]
        },
        {
          "name": "stdout",
          "output_type": "stream",
          "text": [
            "\u001b[1m124/124\u001b[0m \u001b[32m━━━━━━━━━━━━━━━━━━━━\u001b[0m\u001b[37m\u001b[0m \u001b[1m13s\u001b[0m 8ms/step - accuracy: 0.3438 - loss: 1.6477 - val_accuracy: 0.3750 - val_loss: 1.6467\n",
            "Epoch 4/20\n",
            "\u001b[1m124/124\u001b[0m \u001b[32m━━━━━━━━━━━━━━━━━━━━\u001b[0m\u001b[37m\u001b[0m \u001b[1m1726s\u001b[0m 14s/step - accuracy: 0.3741 - loss: 1.6175 - val_accuracy: 0.4083 - val_loss: 1.5545\n",
            "Epoch 5/20\n",
            "\u001b[1m124/124\u001b[0m \u001b[32m━━━━━━━━━━━━━━━━━━━━\u001b[0m\u001b[37m\u001b[0m \u001b[1m1709s\u001b[0m 14s/step - accuracy: 0.4006 - loss: 1.5374 - val_accuracy: 0.4194 - val_loss: 1.4709\n",
            "Epoch 6/20\n",
            "\u001b[1m124/124\u001b[0m \u001b[32m━━━━━━━━━━━━━━━━━━━━\u001b[0m\u001b[37m\u001b[0m \u001b[1m13s\u001b[0m 7ms/step - accuracy: 0.4531 - loss: 1.4273 - val_accuracy: 0.5000 - val_loss: 1.4324\n",
            "Epoch 7/20\n",
            "\u001b[1m124/124\u001b[0m \u001b[32m━━━━━━━━━━━━━━━━━━━━\u001b[0m\u001b[37m\u001b[0m \u001b[1m1717s\u001b[0m 14s/step - accuracy: 0.4263 - loss: 1.4951 - val_accuracy: 0.4481 - val_loss: 1.4576\n",
            "Epoch 8/20\n",
            "\u001b[1m124/124\u001b[0m \u001b[32m━━━━━━━━━━━━━━━━━━━━\u001b[0m\u001b[37m\u001b[0m \u001b[1m1708s\u001b[0m 14s/step - accuracy: 0.4372 - loss: 1.4464 - val_accuracy: 0.4738 - val_loss: 1.3916\n",
            "Epoch 9/20\n",
            "\u001b[1m124/124\u001b[0m \u001b[32m━━━━━━━━━━━━━━━━━━━━\u001b[0m\u001b[37m\u001b[0m \u001b[1m13s\u001b[0m 7ms/step - accuracy: 0.6094 - loss: 1.1915 - val_accuracy: 0.3750 - val_loss: 1.6294\n",
            "Epoch 10/20\n",
            "\u001b[1m124/124\u001b[0m \u001b[32m━━━━━━━━━━━━━━━━━━━━\u001b[0m\u001b[37m\u001b[0m \u001b[1m1710s\u001b[0m 14s/step - accuracy: 0.4641 - loss: 1.3976 - val_accuracy: 0.4521 - val_loss: 1.4003\n",
            "Epoch 11/20\n",
            "\u001b[1m124/124\u001b[0m \u001b[32m━━━━━━━━━━━━━━━━━━━━\u001b[0m\u001b[37m\u001b[0m \u001b[1m1709s\u001b[0m 14s/step - accuracy: 0.4569 - loss: 1.4075 - val_accuracy: 0.4672 - val_loss: 1.3902\n",
            "Epoch 12/20\n",
            "\u001b[1m124/124\u001b[0m \u001b[32m━━━━━━━━━━━━━━━━━━━━\u001b[0m\u001b[37m\u001b[0m \u001b[1m13s\u001b[0m 7ms/step - accuracy: 0.4375 - loss: 1.2681 - val_accuracy: 0.6250 - val_loss: 1.0068\n",
            "Epoch 13/20\n",
            "\u001b[1m124/124\u001b[0m \u001b[32m━━━━━━━━━━━━━━━━━━━━\u001b[0m\u001b[37m\u001b[0m \u001b[1m1720s\u001b[0m 14s/step - accuracy: 0.4868 - loss: 1.3211 - val_accuracy: 0.4874 - val_loss: 1.3663\n",
            "Epoch 14/20\n",
            "\u001b[1m124/124\u001b[0m \u001b[32m━━━━━━━━━━━━━━━━━━━━\u001b[0m\u001b[37m\u001b[0m \u001b[1m1714s\u001b[0m 14s/step - accuracy: 0.4998 - loss: 1.3214 - val_accuracy: 0.4929 - val_loss: 1.3320\n",
            "Epoch 15/20\n",
            "\u001b[1m124/124\u001b[0m \u001b[32m━━━━━━━━━━━━━━━━━━━━\u001b[0m\u001b[37m\u001b[0m \u001b[1m13s\u001b[0m 8ms/step - accuracy: 0.5000 - loss: 1.4355 - val_accuracy: 0.3750 - val_loss: 1.0669\n",
            "Epoch 16/20\n",
            "\u001b[1m124/124\u001b[0m \u001b[32m━━━━━━━━━━━━━━━━━━━━\u001b[0m\u001b[37m\u001b[0m \u001b[1m1715s\u001b[0m 14s/step - accuracy: 0.5011 - loss: 1.3034 - val_accuracy: 0.4955 - val_loss: 1.3097\n",
            "Epoch 17/20\n",
            "\u001b[1m124/124\u001b[0m \u001b[32m━━━━━━━━━━━━━━━━━━━━\u001b[0m\u001b[37m\u001b[0m \u001b[1m1709s\u001b[0m 14s/step - accuracy: 0.5014 - loss: 1.2983 - val_accuracy: 0.5197 - val_loss: 1.2845\n",
            "Epoch 18/20\n",
            "\u001b[1m124/124\u001b[0m \u001b[32m━━━━━━━━━━━━━━━━━━━━\u001b[0m\u001b[37m\u001b[0m \u001b[1m13s\u001b[0m 7ms/step - accuracy: 0.3750 - loss: 1.2497 - val_accuracy: 0.5000 - val_loss: 1.0807\n",
            "Epoch 19/20\n",
            "\u001b[1m124/124\u001b[0m \u001b[32m━━━━━━━━━━━━━━━━━━━━\u001b[0m\u001b[37m\u001b[0m \u001b[1m1711s\u001b[0m 14s/step - accuracy: 0.5054 - loss: 1.2916 - val_accuracy: 0.5126 - val_loss: 1.3012\n",
            "Epoch 20/20\n",
            "\u001b[1m124/124\u001b[0m \u001b[32m━━━━━━━━━━━━━━━━━━━━\u001b[0m\u001b[37m\u001b[0m \u001b[1m1706s\u001b[0m 14s/step - accuracy: 0.5231 - loss: 1.2468 - val_accuracy: 0.4934 - val_loss: 1.2978\n"
          ]
        }
      ],
      "source": [
        "steps_per_epoch = training_set.n // 128\n",
        "validation_steps = validation_set.n // 128\n",
        "\n",
        "VGG19.compile(optimizer = 'adam',\n",
        "              loss=tf.keras.losses.CategoricalCrossentropy(),\n",
        "              metrics=['accuracy']) \n",
        "\n",
        "batch_size = 40\n",
        "history = VGG19.fit(x=training_set,\n",
        "                    validation_data=validation_set,\n",
        "                    epochs=20,\n",
        "                    steps_per_epoch=steps_per_epoch,\n",
        "                    validation_steps=validation_steps\n",
        "                    )"
      ]
    },
    {
      "cell_type": "code",
      "execution_count": 6,
      "metadata": {},
      "outputs": [
        {
          "name": "stdout",
          "output_type": "stream",
          "text": [
            "Epoch 1/20\n"
          ]
        },
        {
          "name": "stderr",
          "output_type": "stream",
          "text": [
            "c:\\Users\\mario\\AppData\\Local\\Programs\\Python\\Python310\\lib\\site-packages\\keras\\src\\trainers\\data_adapters\\py_dataset_adapter.py:121: UserWarning: Your `PyDataset` class should call `super().__init__(**kwargs)` in its constructor. `**kwargs` can include `workers`, `use_multiprocessing`, `max_queue_size`. Do not pass these arguments to `fit()`, as they will be ignored.\n",
            "  self._warn_if_super_not_called()\n"
          ]
        },
        {
          "name": "stdout",
          "output_type": "stream",
          "text": [
            "\u001b[1m124/124\u001b[0m \u001b[32m━━━━━━━━━━━━━━━━━━━━\u001b[0m\u001b[37m\u001b[0m \u001b[1m1838s\u001b[0m 15s/step - accuracy: 0.5220 - loss: 1.2563 - val_accuracy: 0.5136 - val_loss: 1.2952\n",
            "Epoch 2/20\n",
            "\u001b[1m124/124\u001b[0m \u001b[32m━━━━━━━━━━━━━━━━━━━━\u001b[0m\u001b[37m\u001b[0m \u001b[1m1793s\u001b[0m 14s/step - accuracy: 0.5362 - loss: 1.2065 - val_accuracy: 0.5202 - val_loss: 1.2672\n",
            "Epoch 3/20\n",
            "\u001b[1m  1/124\u001b[0m \u001b[37m━━━━━━━━━━━━━━━━━━━━\u001b[0m \u001b[1m26:07\u001b[0m 13s/step - accuracy: 0.6250 - loss: 1.0715"
          ]
        },
        {
          "name": "stderr",
          "output_type": "stream",
          "text": [
            "c:\\Users\\mario\\AppData\\Local\\Programs\\Python\\Python310\\lib\\contextlib.py:153: UserWarning: Your input ran out of data; interrupting training. Make sure that your dataset or generator can generate at least `steps_per_epoch * epochs` batches. You may need to use the `.repeat()` function when building your dataset.\n",
            "  self.gen.throw(typ, value, traceback)\n"
          ]
        },
        {
          "name": "stdout",
          "output_type": "stream",
          "text": [
            "\u001b[1m124/124\u001b[0m \u001b[32m━━━━━━━━━━━━━━━━━━━━\u001b[0m\u001b[37m\u001b[0m \u001b[1m14s\u001b[0m 9ms/step - accuracy: 0.6250 - loss: 1.0715 - val_accuracy: 0.5000 - val_loss: 1.3220\n",
            "Epoch 4/20\n",
            "\u001b[1m124/124\u001b[0m \u001b[32m━━━━━━━━━━━━━━━━━━━━\u001b[0m\u001b[37m\u001b[0m \u001b[1m1795s\u001b[0m 14s/step - accuracy: 0.5400 - loss: 1.2025 - val_accuracy: 0.5257 - val_loss: 1.2644\n",
            "Epoch 5/20\n",
            "\u001b[1m124/124\u001b[0m \u001b[32m━━━━━━━━━━━━━━━━━━━━\u001b[0m\u001b[37m\u001b[0m \u001b[1m1796s\u001b[0m 14s/step - accuracy: 0.5528 - loss: 1.1763 - val_accuracy: 0.5328 - val_loss: 1.2417\n",
            "Epoch 6/20\n",
            "\u001b[1m124/124\u001b[0m \u001b[32m━━━━━━━━━━━━━━━━━━━━\u001b[0m\u001b[37m\u001b[0m \u001b[1m14s\u001b[0m 9ms/step - accuracy: 0.4688 - loss: 1.2855 - val_accuracy: 0.5000 - val_loss: 0.9645\n",
            "Epoch 7/20\n",
            "\u001b[1m124/124\u001b[0m \u001b[32m━━━━━━━━━━━━━━━━━━━━\u001b[0m\u001b[37m\u001b[0m \u001b[1m1794s\u001b[0m 14s/step - accuracy: 0.5527 - loss: 1.1635 - val_accuracy: 0.5086 - val_loss: 1.2792\n",
            "Epoch 8/20\n",
            "\u001b[1m124/124\u001b[0m \u001b[32m━━━━━━━━━━━━━━━━━━━━\u001b[0m\u001b[37m\u001b[0m \u001b[1m1792s\u001b[0m 14s/step - accuracy: 0.5854 - loss: 1.1137 - val_accuracy: 0.5398 - val_loss: 1.2602\n",
            "Epoch 9/20\n",
            "\u001b[1m124/124\u001b[0m \u001b[32m━━━━━━━━━━━━━━━━━━━━\u001b[0m\u001b[37m\u001b[0m \u001b[1m14s\u001b[0m 12ms/step - accuracy: 0.5469 - loss: 1.3076 - val_accuracy: 0.2500 - val_loss: 1.5526\n",
            "Epoch 10/20\n",
            "\u001b[1m124/124\u001b[0m \u001b[32m━━━━━━━━━━━━━━━━━━━━\u001b[0m\u001b[37m\u001b[0m \u001b[1m1795s\u001b[0m 14s/step - accuracy: 0.5558 - loss: 1.1422 - val_accuracy: 0.5151 - val_loss: 1.2690\n",
            "Epoch 11/20\n",
            "\u001b[1m124/124\u001b[0m \u001b[32m━━━━━━━━━━━━━━━━━━━━\u001b[0m\u001b[37m\u001b[0m \u001b[1m1792s\u001b[0m 14s/step - accuracy: 0.5806 - loss: 1.1033 - val_accuracy: 0.5358 - val_loss: 1.2112\n",
            "Epoch 12/20\n",
            "\u001b[1m124/124\u001b[0m \u001b[32m━━━━━━━━━━━━━━━━━━━━\u001b[0m\u001b[37m\u001b[0m \u001b[1m14s\u001b[0m 8ms/step - accuracy: 0.4688 - loss: 1.1335 - val_accuracy: 0.5000 - val_loss: 1.1160\n",
            "Epoch 13/20\n",
            "\u001b[1m124/124\u001b[0m \u001b[32m━━━━━━━━━━━━━━━━━━━━\u001b[0m\u001b[37m\u001b[0m \u001b[1m1795s\u001b[0m 14s/step - accuracy: 0.5883 - loss: 1.0896 - val_accuracy: 0.5449 - val_loss: 1.2441\n",
            "Epoch 14/20\n",
            "\u001b[1m124/124\u001b[0m \u001b[32m━━━━━━━━━━━━━━━━━━━━\u001b[0m\u001b[37m\u001b[0m \u001b[1m1796s\u001b[0m 14s/step - accuracy: 0.5920 - loss: 1.0905 - val_accuracy: 0.5192 - val_loss: 1.2706\n",
            "Epoch 15/20\n",
            "\u001b[1m124/124\u001b[0m \u001b[32m━━━━━━━━━━━━━━━━━━━━\u001b[0m\u001b[37m\u001b[0m \u001b[1m14s\u001b[0m 8ms/step - accuracy: 0.4844 - loss: 1.2598 - val_accuracy: 0.5000 - val_loss: 1.3093\n",
            "Epoch 16/20\n",
            "\u001b[1m124/124\u001b[0m \u001b[32m━━━━━━━━━━━━━━━━━━━━\u001b[0m\u001b[37m\u001b[0m \u001b[1m1796s\u001b[0m 14s/step - accuracy: 0.5986 - loss: 1.0648 - val_accuracy: 0.5212 - val_loss: 1.2758\n",
            "Epoch 17/20\n",
            "\u001b[1m124/124\u001b[0m \u001b[32m━━━━━━━━━━━━━━━━━━━━\u001b[0m\u001b[37m\u001b[0m \u001b[1m1797s\u001b[0m 15s/step - accuracy: 0.5934 - loss: 1.0645 - val_accuracy: 0.5595 - val_loss: 1.1993\n",
            "Epoch 18/20\n",
            "\u001b[1m124/124\u001b[0m \u001b[32m━━━━━━━━━━━━━━━━━━━━\u001b[0m\u001b[37m\u001b[0m \u001b[1m14s\u001b[0m 8ms/step - accuracy: 0.4531 - loss: 1.4267 - val_accuracy: 0.5000 - val_loss: 1.9057\n",
            "Epoch 19/20\n",
            "\u001b[1m124/124\u001b[0m \u001b[32m━━━━━━━━━━━━━━━━━━━━\u001b[0m\u001b[37m\u001b[0m \u001b[1m1795s\u001b[0m 14s/step - accuracy: 0.6044 - loss: 1.0270 - val_accuracy: 0.5439 - val_loss: 1.2618\n",
            "Epoch 20/20\n",
            "\u001b[1m124/124\u001b[0m \u001b[32m━━━━━━━━━━━━━━━━━━━━\u001b[0m\u001b[37m\u001b[0m \u001b[1m1786s\u001b[0m 14s/step - accuracy: 0.6147 - loss: 1.0243 - val_accuracy: 0.5292 - val_loss: 1.2459\n"
          ]
        }
      ],
      "source": [
        "steps_per_epoch = training_set.n // 128\n",
        "validation_steps = validation_set.n // 128\n",
        "\n",
        "VGG19.compile(optimizer = 'adam',\n",
        "              loss=tf.keras.losses.CategoricalCrossentropy(),\n",
        "              metrics=['accuracy']) \n",
        "\n",
        "batch_size = 40\n",
        "history = VGG19.fit(x=training_set,\n",
        "                    validation_data=validation_set,\n",
        "                    epochs=20,\n",
        "                    steps_per_epoch=steps_per_epoch,\n",
        "                    validation_steps=validation_steps\n",
        "                    )"
      ]
    },
    {
      "cell_type": "code",
      "execution_count": 6,
      "metadata": {},
      "outputs": [
        {
          "name": "stdout",
          "output_type": "stream",
          "text": [
            "Epoch 1/30\n"
          ]
        },
        {
          "name": "stderr",
          "output_type": "stream",
          "text": [
            "c:\\Users\\mario\\AppData\\Local\\Programs\\Python\\Python310\\lib\\site-packages\\keras\\src\\trainers\\data_adapters\\py_dataset_adapter.py:121: UserWarning: Your `PyDataset` class should call `super().__init__(**kwargs)` in its constructor. `**kwargs` can include `workers`, `use_multiprocessing`, `max_queue_size`. Do not pass these arguments to `fit()`, as they will be ignored.\n",
            "  self._warn_if_super_not_called()\n"
          ]
        },
        {
          "name": "stdout",
          "output_type": "stream",
          "text": [
            "\u001b[1m124/124\u001b[0m \u001b[32m━━━━━━━━━━━━━━━━━━━━\u001b[0m\u001b[37m\u001b[0m \u001b[1m1765s\u001b[0m 14s/step - accuracy: 0.6293 - loss: 0.9901 - val_accuracy: 0.5479 - val_loss: 1.2009\n",
            "Epoch 2/30\n",
            "\u001b[1m124/124\u001b[0m \u001b[32m━━━━━━━━━━━━━━━━━━━━\u001b[0m\u001b[37m\u001b[0m \u001b[1m1710s\u001b[0m 14s/step - accuracy: 0.6472 - loss: 0.9408 - val_accuracy: 0.5726 - val_loss: 1.2101\n",
            "Epoch 3/30\n",
            "\u001b[1m  1/124\u001b[0m \u001b[37m━━━━━━━━━━━━━━━━━━━━\u001b[0m \u001b[1m25:01\u001b[0m 12s/step - accuracy: 0.6562 - loss: 1.1939"
          ]
        },
        {
          "name": "stderr",
          "output_type": "stream",
          "text": [
            "c:\\Users\\mario\\AppData\\Local\\Programs\\Python\\Python310\\lib\\contextlib.py:153: UserWarning: Your input ran out of data; interrupting training. Make sure that your dataset or generator can generate at least `steps_per_epoch * epochs` batches. You may need to use the `.repeat()` function when building your dataset.\n",
            "  self.gen.throw(typ, value, traceback)\n"
          ]
        },
        {
          "name": "stdout",
          "output_type": "stream",
          "text": [
            "\u001b[1m124/124\u001b[0m \u001b[32m━━━━━━━━━━━━━━━━━━━━\u001b[0m\u001b[37m\u001b[0m \u001b[1m13s\u001b[0m 9ms/step - accuracy: 0.6562 - loss: 1.1939 - val_accuracy: 0.1250 - val_loss: 1.9086\n",
            "Epoch 4/30\n",
            "\u001b[1m124/124\u001b[0m \u001b[32m━━━━━━━━━━━━━━━━━━━━\u001b[0m\u001b[37m\u001b[0m \u001b[1m1715s\u001b[0m 14s/step - accuracy: 0.6489 - loss: 0.9366 - val_accuracy: 0.5519 - val_loss: 1.2540\n",
            "Epoch 5/30\n",
            "\u001b[1m124/124\u001b[0m \u001b[32m━━━━━━━━━━━━━━━━━━━━\u001b[0m\u001b[37m\u001b[0m \u001b[1m1697s\u001b[0m 14s/step - accuracy: 0.6759 - loss: 0.8964 - val_accuracy: 0.5237 - val_loss: 1.3320\n",
            "Epoch 6/30\n",
            "\u001b[1m124/124\u001b[0m \u001b[32m━━━━━━━━━━━━━━━━━━━━\u001b[0m\u001b[37m\u001b[0m \u001b[1m13s\u001b[0m 8ms/step - accuracy: 0.5938 - loss: 1.0752 - val_accuracy: 0.5000 - val_loss: 1.3454\n",
            "Epoch 7/30\n",
            "\u001b[1m124/124\u001b[0m \u001b[32m━━━━━━━━━━━━━━━━━━━━\u001b[0m\u001b[37m\u001b[0m \u001b[1m1701s\u001b[0m 14s/step - accuracy: 0.6677 - loss: 0.8922 - val_accuracy: 0.5383 - val_loss: 1.2445\n",
            "Epoch 8/30\n",
            "\u001b[1m124/124\u001b[0m \u001b[32m━━━━━━━━━━━━━━━━━━━━\u001b[0m\u001b[37m\u001b[0m \u001b[1m1693s\u001b[0m 14s/step - accuracy: 0.6743 - loss: 0.8811 - val_accuracy: 0.5655 - val_loss: 1.2126\n",
            "Epoch 9/30\n",
            "\u001b[1m124/124\u001b[0m \u001b[32m━━━━━━━━━━━━━━━━━━━━\u001b[0m\u001b[37m\u001b[0m \u001b[1m13s\u001b[0m 9ms/step - accuracy: 0.6406 - loss: 0.9368 - val_accuracy: 0.7500 - val_loss: 1.0240\n",
            "Epoch 10/30\n",
            "\u001b[1m124/124\u001b[0m \u001b[32m━━━━━━━━━━━━━━━━━━━━\u001b[0m\u001b[37m\u001b[0m \u001b[1m1704s\u001b[0m 14s/step - accuracy: 0.6829 - loss: 0.8545 - val_accuracy: 0.5181 - val_loss: 1.3705\n",
            "Epoch 11/30\n",
            "\u001b[1m124/124\u001b[0m \u001b[32m━━━━━━━━━━━━━━━━━━━━\u001b[0m\u001b[37m\u001b[0m \u001b[1m1697s\u001b[0m 14s/step - accuracy: 0.6768 - loss: 0.8782 - val_accuracy: 0.5388 - val_loss: 1.3214\n",
            "Epoch 12/30\n",
            "\u001b[1m124/124\u001b[0m \u001b[32m━━━━━━━━━━━━━━━━━━━━\u001b[0m\u001b[37m\u001b[0m \u001b[1m13s\u001b[0m 7ms/step - accuracy: 0.6094 - loss: 1.0609 - val_accuracy: 0.7500 - val_loss: 0.7252\n",
            "Epoch 13/30\n",
            "\u001b[1m124/124\u001b[0m \u001b[32m━━━━━━━━━━━━━━━━━━━━\u001b[0m\u001b[37m\u001b[0m \u001b[1m1698s\u001b[0m 14s/step - accuracy: 0.6914 - loss: 0.8452 - val_accuracy: 0.5464 - val_loss: 1.2654\n",
            "Epoch 14/30\n",
            "\u001b[1m124/124\u001b[0m \u001b[32m━━━━━━━━━━━━━━━━━━━━\u001b[0m\u001b[37m\u001b[0m \u001b[1m1693s\u001b[0m 14s/step - accuracy: 0.6949 - loss: 0.8417 - val_accuracy: 0.5363 - val_loss: 1.2955\n",
            "Epoch 15/30\n",
            "\u001b[1m124/124\u001b[0m \u001b[32m━━━━━━━━━━━━━━━━━━━━\u001b[0m\u001b[37m\u001b[0m \u001b[1m13s\u001b[0m 8ms/step - accuracy: 0.6406 - loss: 1.0663 - val_accuracy: 0.5000 - val_loss: 1.3659\n",
            "Epoch 16/30\n",
            "\u001b[1m124/124\u001b[0m \u001b[32m━━━━━━━━━━━━━━━━━━━━\u001b[0m\u001b[37m\u001b[0m \u001b[1m1696s\u001b[0m 14s/step - accuracy: 0.7063 - loss: 0.8013 - val_accuracy: 0.5539 - val_loss: 1.2899\n",
            "Epoch 17/30\n",
            "\u001b[1m124/124\u001b[0m \u001b[32m━━━━━━━━━━━━━━━━━━━━\u001b[0m\u001b[37m\u001b[0m \u001b[1m1696s\u001b[0m 14s/step - accuracy: 0.6999 - loss: 0.8109 - val_accuracy: 0.5428 - val_loss: 1.3310\n",
            "Epoch 18/30\n",
            "\u001b[1m124/124\u001b[0m \u001b[32m━━━━━━━━━━━━━━━━━━━━\u001b[0m\u001b[37m\u001b[0m \u001b[1m13s\u001b[0m 7ms/step - accuracy: 0.6719 - loss: 0.8958 - val_accuracy: 0.2500 - val_loss: 2.1999\n",
            "Epoch 19/30\n",
            "\u001b[1m124/124\u001b[0m \u001b[32m━━━━━━━━━━━━━━━━━━━━\u001b[0m\u001b[37m\u001b[0m \u001b[1m1697s\u001b[0m 14s/step - accuracy: 0.7118 - loss: 0.7916 - val_accuracy: 0.5575 - val_loss: 1.4256\n",
            "Epoch 20/30\n",
            "\u001b[1m124/124\u001b[0m \u001b[32m━━━━━━━━━━━━━━━━━━━━\u001b[0m\u001b[37m\u001b[0m \u001b[1m1697s\u001b[0m 14s/step - accuracy: 0.7346 - loss: 0.7413 - val_accuracy: 0.5433 - val_loss: 1.3646\n",
            "Epoch 21/30\n",
            "\u001b[1m124/124\u001b[0m \u001b[32m━━━━━━━━━━━━━━━━━━━━\u001b[0m\u001b[37m\u001b[0m \u001b[1m13s\u001b[0m 8ms/step - accuracy: 0.6875 - loss: 0.8771 - val_accuracy: 0.5000 - val_loss: 1.7048\n",
            "Epoch 22/30\n",
            "\u001b[1m124/124\u001b[0m \u001b[32m━━━━━━━━━━━━━━━━━━━━\u001b[0m\u001b[37m\u001b[0m \u001b[1m1700s\u001b[0m 14s/step - accuracy: 0.7363 - loss: 0.7310 - val_accuracy: 0.5554 - val_loss: 1.3484\n",
            "Epoch 23/30\n",
            "\u001b[1m124/124\u001b[0m \u001b[32m━━━━━━━━━━━━━━━━━━━━\u001b[0m\u001b[37m\u001b[0m \u001b[1m1693s\u001b[0m 14s/step - accuracy: 0.6827 - loss: 0.8510 - val_accuracy: 0.5318 - val_loss: 1.3703\n",
            "Epoch 24/30\n",
            "\u001b[1m124/124\u001b[0m \u001b[32m━━━━━━━━━━━━━━━━━━━━\u001b[0m\u001b[37m\u001b[0m \u001b[1m13s\u001b[0m 7ms/step - accuracy: 0.7656 - loss: 0.6268 - val_accuracy: 0.6250 - val_loss: 1.0391\n",
            "Epoch 25/30\n",
            "\u001b[1m124/124\u001b[0m \u001b[32m━━━━━━━━━━━━━━━━━━━━\u001b[0m\u001b[37m\u001b[0m \u001b[1m1699s\u001b[0m 14s/step - accuracy: 0.7236 - loss: 0.7528 - val_accuracy: 0.5403 - val_loss: 1.4445\n",
            "Epoch 26/30\n",
            "\u001b[1m124/124\u001b[0m \u001b[32m━━━━━━━━━━━━━━━━━━━━\u001b[0m\u001b[37m\u001b[0m \u001b[1m1691s\u001b[0m 14s/step - accuracy: 0.7233 - loss: 0.7559 - val_accuracy: 0.5348 - val_loss: 1.3661\n",
            "Epoch 27/30\n",
            "\u001b[1m124/124\u001b[0m \u001b[32m━━━━━━━━━━━━━━━━━━━━\u001b[0m\u001b[37m\u001b[0m \u001b[1m13s\u001b[0m 8ms/step - accuracy: 0.7031 - loss: 0.6973 - val_accuracy: 0.7500 - val_loss: 0.6107\n",
            "Epoch 28/30\n",
            "\u001b[1m124/124\u001b[0m \u001b[32m━━━━━━━━━━━━━━━━━━━━\u001b[0m\u001b[37m\u001b[0m \u001b[1m1692s\u001b[0m 14s/step - accuracy: 0.7303 - loss: 0.7372 - val_accuracy: 0.5459 - val_loss: 1.4825\n",
            "Epoch 29/30\n",
            "\u001b[1m124/124\u001b[0m \u001b[32m━━━━━━━━━━━━━━━━━━━━\u001b[0m\u001b[37m\u001b[0m \u001b[1m1698s\u001b[0m 14s/step - accuracy: 0.7386 - loss: 0.7048 - val_accuracy: 0.5504 - val_loss: 1.4451\n",
            "Epoch 30/30\n",
            "\u001b[1m124/124\u001b[0m \u001b[32m━━━━━━━━━━━━━━━━━━━━\u001b[0m\u001b[37m\u001b[0m \u001b[1m13s\u001b[0m 8ms/step - accuracy: 0.6562 - loss: 0.8420 - val_accuracy: 0.6250 - val_loss: 1.8028\n"
          ]
        }
      ],
      "source": [
        "steps_per_epoch = training_set.n // 128\n",
        "validation_steps = validation_set.n // 128\n",
        "\n",
        "VGG19.compile(optimizer = 'adam',\n",
        "              loss=tf.keras.losses.CategoricalCrossentropy(),\n",
        "              metrics=['accuracy']) \n",
        "\n",
        "batch_size = 40\n",
        "history = VGG19.fit(x=training_set,\n",
        "                    validation_data=validation_set,\n",
        "                    epochs=30,\n",
        "                    steps_per_epoch=steps_per_epoch,\n",
        "                    validation_steps=validation_steps\n",
        "                    )"
      ]
    },
    {
      "cell_type": "code",
      "execution_count": 19,
      "metadata": {},
      "outputs": [
        {
          "name": "stdout",
          "output_type": "stream",
          "text": [
            "Epoch 1/30\n",
            "\u001b[1m124/124\u001b[0m \u001b[32m━━━━━━━━━━━━━━━━━━━━\u001b[0m\u001b[37m\u001b[0m \u001b[1m1727s\u001b[0m 14s/step - accuracy: 0.7626 - loss: 0.6523 - val_accuracy: 0.5539 - val_loss: 1.4437\n",
            "Epoch 2/30\n",
            "\u001b[1m124/124\u001b[0m \u001b[32m━━━━━━━━━━━━━━━━━━━━\u001b[0m\u001b[37m\u001b[0m \u001b[1m1710s\u001b[0m 14s/step - accuracy: 0.7707 - loss: 0.6444 - val_accuracy: 0.5484 - val_loss: 1.5275\n",
            "Epoch 3/30\n",
            "\u001b[1m124/124\u001b[0m \u001b[32m━━━━━━━━━━━━━━━━━━━━\u001b[0m\u001b[37m\u001b[0m \u001b[1m13s\u001b[0m 7ms/step - accuracy: 0.7031 - loss: 0.8083 - val_accuracy: 0.8750 - val_loss: 1.2369\n",
            "Epoch 4/30\n",
            "\u001b[1m124/124\u001b[0m \u001b[32m━━━━━━━━━━━━━━━━━━━━\u001b[0m\u001b[37m\u001b[0m \u001b[1m1724s\u001b[0m 14s/step - accuracy: 0.7876 - loss: 0.5968 - val_accuracy: 0.5474 - val_loss: 1.5316\n",
            "Epoch 5/30\n",
            "\u001b[1m124/124\u001b[0m \u001b[32m━━━━━━━━━━━━━━━━━━━━\u001b[0m\u001b[37m\u001b[0m \u001b[1m1732s\u001b[0m 14s/step - accuracy: 0.7728 - loss: 0.6387 - val_accuracy: 0.5549 - val_loss: 1.4503\n",
            "Epoch 6/30\n",
            "\u001b[1m124/124\u001b[0m \u001b[32m━━━━━━━━━━━━━━━━━━━━\u001b[0m\u001b[37m\u001b[0m \u001b[1m13s\u001b[0m 8ms/step - accuracy: 0.7969 - loss: 0.5120 - val_accuracy: 0.5000 - val_loss: 1.6485\n",
            "Epoch 7/30\n",
            "\u001b[1m124/124\u001b[0m \u001b[32m━━━━━━━━━━━━━━━━━━━━\u001b[0m\u001b[37m\u001b[0m \u001b[1m1743s\u001b[0m 14s/step - accuracy: 0.7926 - loss: 0.5846 - val_accuracy: 0.5368 - val_loss: 1.5861\n",
            "Epoch 8/30\n",
            "\u001b[1m124/124\u001b[0m \u001b[32m━━━━━━━━━━━━━━━━━━━━\u001b[0m\u001b[37m\u001b[0m \u001b[1m1743s\u001b[0m 14s/step - accuracy: 0.7908 - loss: 0.6012 - val_accuracy: 0.5388 - val_loss: 1.5556\n",
            "Epoch 9/30\n",
            "\u001b[1m124/124\u001b[0m \u001b[32m━━━━━━━━━━━━━━━━━━━━\u001b[0m\u001b[37m\u001b[0m \u001b[1m13s\u001b[0m 8ms/step - accuracy: 0.6719 - loss: 0.8084 - val_accuracy: 0.3750 - val_loss: 1.9116\n",
            "Epoch 10/30\n",
            "\u001b[1m124/124\u001b[0m \u001b[32m━━━━━━━━━━━━━━━━━━━━\u001b[0m\u001b[37m\u001b[0m \u001b[1m1749s\u001b[0m 14s/step - accuracy: 0.8009 - loss: 0.5604 - val_accuracy: 0.5363 - val_loss: 1.6191\n",
            "Epoch 11/30\n",
            "\u001b[1m124/124\u001b[0m \u001b[32m━━━━━━━━━━━━━━━━━━━━\u001b[0m\u001b[37m\u001b[0m \u001b[1m1757s\u001b[0m 14s/step - accuracy: 0.8072 - loss: 0.5382 - val_accuracy: 0.5333 - val_loss: 1.7142\n",
            "Epoch 12/30\n",
            "\u001b[1m124/124\u001b[0m \u001b[32m━━━━━━━━━━━━━━━━━━━━\u001b[0m\u001b[37m\u001b[0m \u001b[1m13s\u001b[0m 8ms/step - accuracy: 0.8125 - loss: 0.4955 - val_accuracy: 0.7500 - val_loss: 0.6384\n",
            "Epoch 13/30\n",
            "\u001b[1m124/124\u001b[0m \u001b[32m━━━━━━━━━━━━━━━━━━━━\u001b[0m\u001b[37m\u001b[0m \u001b[1m1761s\u001b[0m 14s/step - accuracy: 0.8214 - loss: 0.5035 - val_accuracy: 0.5312 - val_loss: 1.5729\n",
            "Epoch 14/30\n",
            "\u001b[1m124/124\u001b[0m \u001b[32m━━━━━━━━━━━━━━━━━━━━\u001b[0m\u001b[37m\u001b[0m \u001b[1m1760s\u001b[0m 14s/step - accuracy: 0.7876 - loss: 0.5882 - val_accuracy: 0.5282 - val_loss: 1.7362\n",
            "Epoch 15/30\n",
            "\u001b[1m124/124\u001b[0m \u001b[32m━━━━━━━━━━━━━━━━━━━━\u001b[0m\u001b[37m\u001b[0m \u001b[1m14s\u001b[0m 8ms/step - accuracy: 0.8125 - loss: 0.5398 - val_accuracy: 0.3750 - val_loss: 1.0085\n",
            "Epoch 16/30\n",
            "\u001b[1m124/124\u001b[0m \u001b[32m━━━━━━━━━━━━━━━━━━━━\u001b[0m\u001b[37m\u001b[0m \u001b[1m1769s\u001b[0m 14s/step - accuracy: 0.7982 - loss: 0.5709 - val_accuracy: 0.5358 - val_loss: 1.8097\n",
            "Epoch 17/30\n",
            "\u001b[1m124/124\u001b[0m \u001b[32m━━━━━━━━━━━━━━━━━━━━\u001b[0m\u001b[37m\u001b[0m \u001b[1m1773s\u001b[0m 14s/step - accuracy: 0.8097 - loss: 0.5450 - val_accuracy: 0.5459 - val_loss: 1.6977\n",
            "Epoch 18/30\n",
            "\u001b[1m124/124\u001b[0m \u001b[32m━━━━━━━━━━━━━━━━━━━━\u001b[0m\u001b[37m\u001b[0m \u001b[1m13s\u001b[0m 8ms/step - accuracy: 0.7656 - loss: 0.5999 - val_accuracy: 0.5000 - val_loss: 1.3317\n",
            "Epoch 19/30\n",
            "\u001b[1m124/124\u001b[0m \u001b[32m━━━━━━━━━━━━━━━━━━━━\u001b[0m\u001b[37m\u001b[0m \u001b[1m1779s\u001b[0m 14s/step - accuracy: 0.8275 - loss: 0.4806 - val_accuracy: 0.5277 - val_loss: 1.5888\n",
            "Epoch 20/30\n",
            "\u001b[1m124/124\u001b[0m \u001b[32m━━━━━━━━━━━━━━━━━━━━\u001b[0m\u001b[37m\u001b[0m \u001b[1m1781s\u001b[0m 14s/step - accuracy: 0.8183 - loss: 0.5192 - val_accuracy: 0.5464 - val_loss: 1.7690\n",
            "Epoch 21/30\n",
            "\u001b[1m124/124\u001b[0m \u001b[32m━━━━━━━━━━━━━━━━━━━━\u001b[0m\u001b[37m\u001b[0m \u001b[1m14s\u001b[0m 8ms/step - accuracy: 0.8281 - loss: 0.5386 - val_accuracy: 0.6250 - val_loss: 2.1673\n",
            "Epoch 22/30\n",
            "\u001b[1m124/124\u001b[0m \u001b[32m━━━━━━━━━━━━━━━━━━━━\u001b[0m\u001b[37m\u001b[0m \u001b[1m1784s\u001b[0m 14s/step - accuracy: 0.8412 - loss: 0.4565 - val_accuracy: 0.5383 - val_loss: 1.7477\n",
            "Epoch 23/30\n",
            "\u001b[1m124/124\u001b[0m \u001b[32m━━━━━━━━━━━━━━━━━━━━\u001b[0m\u001b[37m\u001b[0m \u001b[1m1792s\u001b[0m 14s/step - accuracy: 0.8407 - loss: 0.4617 - val_accuracy: 0.5348 - val_loss: 1.5750\n",
            "Epoch 24/30\n",
            "\u001b[1m124/124\u001b[0m \u001b[32m━━━━━━━━━━━━━━━━━━━━\u001b[0m\u001b[37m\u001b[0m \u001b[1m14s\u001b[0m 8ms/step - accuracy: 0.6719 - loss: 0.8809 - val_accuracy: 0.6250 - val_loss: 0.8016\n",
            "Epoch 25/30\n",
            "\u001b[1m124/124\u001b[0m \u001b[32m━━━━━━━━━━━━━━━━━━━━\u001b[0m\u001b[37m\u001b[0m \u001b[1m1799s\u001b[0m 15s/step - accuracy: 0.8401 - loss: 0.4584 - val_accuracy: 0.5237 - val_loss: 2.0818\n",
            "Epoch 26/30\n",
            "\u001b[1m124/124\u001b[0m \u001b[32m━━━━━━━━━━━━━━━━━━━━\u001b[0m\u001b[37m\u001b[0m \u001b[1m1791s\u001b[0m 14s/step - accuracy: 0.7957 - loss: 0.5933 - val_accuracy: 0.5575 - val_loss: 1.7182\n",
            "Epoch 27/30\n",
            "\u001b[1m124/124\u001b[0m \u001b[32m━━━━━━━━━━━━━━━━━━━━\u001b[0m\u001b[37m\u001b[0m \u001b[1m14s\u001b[0m 8ms/step - accuracy: 0.8438 - loss: 0.5087 - val_accuracy: 0.6250 - val_loss: 1.1577\n",
            "Epoch 28/30\n",
            "\u001b[1m124/124\u001b[0m \u001b[32m━━━━━━━━━━━━━━━━━━━━\u001b[0m\u001b[37m\u001b[0m \u001b[1m1801s\u001b[0m 15s/step - accuracy: 0.8349 - loss: 0.4782 - val_accuracy: 0.5469 - val_loss: 1.9130\n",
            "Epoch 29/30\n",
            "\u001b[1m124/124\u001b[0m \u001b[32m━━━━━━━━━━━━━━━━━━━━\u001b[0m\u001b[37m\u001b[0m \u001b[1m1806s\u001b[0m 15s/step - accuracy: 0.8364 - loss: 0.4731 - val_accuracy: 0.5524 - val_loss: 1.9896\n",
            "Epoch 30/30\n",
            "\u001b[1m124/124\u001b[0m \u001b[32m━━━━━━━━━━━━━━━━━━━━\u001b[0m\u001b[37m\u001b[0m \u001b[1m14s\u001b[0m 8ms/step - accuracy: 0.8750 - loss: 0.4098 - val_accuracy: 0.6250 - val_loss: 0.9824\n"
          ]
        }
      ],
      "source": [
        "steps_per_epoch = training_set.n // 128\n",
        "validation_steps = validation_set.n // 128\n",
        "\n",
        "VGG19.compile(optimizer = 'adam',\n",
        "              loss=tf.keras.losses.CategoricalCrossentropy(),\n",
        "              metrics=['accuracy']) \n",
        "\n",
        "batch_size = 40\n",
        "history = VGG19.fit(x=training_set,\n",
        "                    validation_data=validation_set,\n",
        "                    epochs=30,\n",
        "                    steps_per_epoch=steps_per_epoch,\n",
        "                    validation_steps=validation_steps\n",
        "                    )"
      ]
    },
    {
      "cell_type": "code",
      "execution_count": 11,
      "metadata": {},
      "outputs": [],
      "source": [
        "VGG19.save('VGG19Augmented_TrainableBanyak1.keras')"
      ]
    },
    {
      "cell_type": "code",
      "execution_count": 7,
      "metadata": {},
      "outputs": [],
      "source": [
        "VGG19.save('VGG19Augmented_TrainableBanyak2.keras')\n"
      ]
    },
    {
      "cell_type": "code",
      "execution_count": 7,
      "metadata": {},
      "outputs": [],
      "source": [
        "VGG19.save('VGG19Augmented_TrainableBanyak3.keras')\n"
      ]
    },
    {
      "cell_type": "code",
      "execution_count": 20,
      "metadata": {},
      "outputs": [],
      "source": [
        "VGG19.save('VGG19Augmented_TrainableBanyak4.keras')\n"
      ]
    },
    {
      "cell_type": "code",
      "execution_count": 16,
      "metadata": {},
      "outputs": [],
      "source": [
        "VGG19.save('VGG19Augmented_TrainableBanyakBackup.keras')\n"
      ]
    },
    {
      "cell_type": "markdown",
      "metadata": {},
      "source": [
        "## Train Reverse"
      ]
    },
    {
      "cell_type": "code",
      "execution_count": 16,
      "metadata": {},
      "outputs": [
        {
          "name": "stdout",
          "output_type": "stream",
          "text": [
            "Epoch 1/10\n"
          ]
        },
        {
          "name": "stderr",
          "output_type": "stream",
          "text": [
            "c:\\Users\\mario\\AppData\\Local\\Programs\\Python\\Python310\\lib\\site-packages\\keras\\src\\trainers\\data_adapters\\py_dataset_adapter.py:121: UserWarning: Your `PyDataset` class should call `super().__init__(**kwargs)` in its constructor. `**kwargs` can include `workers`, `use_multiprocessing`, `max_queue_size`. Do not pass these arguments to `fit()`, as they will be ignored.\n",
            "  self._warn_if_super_not_called()\n"
          ]
        },
        {
          "name": "stdout",
          "output_type": "stream",
          "text": [
            "\u001b[1m124/124\u001b[0m \u001b[32m━━━━━━━━━━━━━━━━━━━━\u001b[0m\u001b[37m\u001b[0m \u001b[1m5393s\u001b[0m 43s/step - accuracy: 0.2184 - loss: 1.9236 - val_accuracy: 0.2661 - val_loss: 1.8192\n",
            "Epoch 2/10\n",
            "\u001b[1m124/124\u001b[0m \u001b[32m━━━━━━━━━━━━━━━━━━━━\u001b[0m\u001b[37m\u001b[0m \u001b[1m5473s\u001b[0m 44s/step - accuracy: 0.2907 - loss: 1.7909 - val_accuracy: 0.3745 - val_loss: 1.6775\n",
            "Epoch 3/10\n",
            "\u001b[1m  1/124\u001b[0m \u001b[37m━━━━━━━━━━━━━━━━━━━━\u001b[0m \u001b[1m1:24:13\u001b[0m 41s/step - accuracy: 0.2969 - loss: 1.8096"
          ]
        },
        {
          "name": "stderr",
          "output_type": "stream",
          "text": [
            "c:\\Users\\mario\\AppData\\Local\\Programs\\Python\\Python310\\lib\\contextlib.py:153: UserWarning: Your input ran out of data; interrupting training. Make sure that your dataset or generator can generate at least `steps_per_epoch * epochs` batches. You may need to use the `.repeat()` function when building your dataset.\n",
            "  self.gen.throw(typ, value, traceback)\n"
          ]
        },
        {
          "name": "stdout",
          "output_type": "stream",
          "text": [
            "\u001b[1m124/124\u001b[0m \u001b[32m━━━━━━━━━━━━━━━━━━━━\u001b[0m\u001b[37m\u001b[0m \u001b[1m44s\u001b[0m 21ms/step - accuracy: 0.2969 - loss: 1.8096 - val_accuracy: 0.2500 - val_loss: 2.0590\n",
            "Epoch 4/10\n",
            "\u001b[1m124/124\u001b[0m \u001b[32m━━━━━━━━━━━━━━━━━━━━\u001b[0m\u001b[37m\u001b[0m \u001b[1m5633s\u001b[0m 45s/step - accuracy: 0.3708 - loss: 1.6339 - val_accuracy: 0.3926 - val_loss: 1.5575\n",
            "Epoch 5/10\n",
            "\u001b[1m124/124\u001b[0m \u001b[32m━━━━━━━━━━━━━━━━━━━━\u001b[0m\u001b[37m\u001b[0m \u001b[1m5610s\u001b[0m 45s/step - accuracy: 0.4062 - loss: 1.5497 - val_accuracy: 0.4022 - val_loss: 1.5417\n",
            "Epoch 6/10\n",
            "\u001b[1m124/124\u001b[0m \u001b[32m━━━━━━━━━━━━━━━━━━━━\u001b[0m\u001b[37m\u001b[0m \u001b[1m42s\u001b[0m 19ms/step - accuracy: 0.5156 - loss: 1.4401 - val_accuracy: 0.3750 - val_loss: 1.3083\n",
            "Epoch 7/10\n",
            "\u001b[1m124/124\u001b[0m \u001b[32m━━━━━━━━━━━━━━━━━━━━\u001b[0m\u001b[37m\u001b[0m \u001b[1m5490s\u001b[0m 44s/step - accuracy: 0.4206 - loss: 1.5140 - val_accuracy: 0.4199 - val_loss: 1.5235\n",
            "Epoch 8/10\n",
            "\u001b[1m124/124\u001b[0m \u001b[32m━━━━━━━━━━━━━━━━━━━━\u001b[0m\u001b[37m\u001b[0m \u001b[1m5443s\u001b[0m 44s/step - accuracy: 0.4162 - loss: 1.5109 - val_accuracy: 0.4335 - val_loss: 1.5034\n",
            "Epoch 9/10\n",
            "\u001b[1m124/124\u001b[0m \u001b[32m━━━━━━━━━━━━━━━━━━━━\u001b[0m\u001b[37m\u001b[0m \u001b[1m41s\u001b[0m 15ms/step - accuracy: 0.4375 - loss: 1.4062 - val_accuracy: 0.2500 - val_loss: 1.8196\n",
            "Epoch 10/10\n",
            "\u001b[1m124/124\u001b[0m \u001b[32m━━━━━━━━━━━━━━━━━━━━\u001b[0m\u001b[37m\u001b[0m \u001b[1m5409s\u001b[0m 44s/step - accuracy: 0.4639 - loss: 1.4259 - val_accuracy: 0.4209 - val_loss: 1.4928\n"
          ]
        }
      ],
      "source": [
        "steps_per_epoch = training_set.n // 128\n",
        "validation_steps = validation_set.n // 128\n",
        "\n",
        "VGG19.compile(optimizer = 'adam',\n",
        "              loss=tf.keras.losses.CategoricalCrossentropy(),\n",
        "              metrics=['accuracy']) \n",
        "\n",
        "batch_size = 40\n",
        "history = VGG19.fit(x=training_set,\n",
        "                    validation_data=validation_set,\n",
        "                    epochs=10,\n",
        "                    steps_per_epoch=steps_per_epoch,\n",
        "                    validation_steps=validation_steps                                                                                                                                                                                                                                                                                                                                                                                                                      \n",
        "                    )\n"
      ]
    },
    {
      "cell_type": "code",
      "execution_count": 17,
      "metadata": {},
      "outputs": [],
      "source": [
        "VGG19.save('VGG19Augmented_TrainableDikit1.keras')"
      ]
    },
    {
      "cell_type": "code",
      "execution_count": 18,
      "metadata": {},
      "outputs": [
        {
          "name": "stdout",
          "output_type": "stream",
          "text": [
            "Epoch 1/10\n",
            "\u001b[1m124/124\u001b[0m \u001b[32m━━━━━━━━━━━━━━━━━━━━\u001b[0m\u001b[37m\u001b[0m \u001b[1m5448s\u001b[0m 44s/step - accuracy: 0.4389 - loss: 1.4576 - val_accuracy: 0.4435 - val_loss: 1.4471\n",
            "Epoch 2/10\n",
            "\u001b[1m124/124\u001b[0m \u001b[32m━━━━━━━━━━━━━━━━━━━━\u001b[0m\u001b[37m\u001b[0m \u001b[1m5473s\u001b[0m 44s/step - accuracy: 0.4585 - loss: 1.4101 - val_accuracy: 0.4551 - val_loss: 1.4471\n",
            "Epoch 3/10\n",
            "\u001b[1m124/124\u001b[0m \u001b[32m━━━━━━━━━━━━━━━━━━━━\u001b[0m\u001b[37m\u001b[0m \u001b[1m43s\u001b[0m 15ms/step - accuracy: 0.4688 - loss: 1.4588 - val_accuracy: 0.3750 - val_loss: 1.5933\n",
            "Epoch 4/10\n",
            "\u001b[1m124/124\u001b[0m \u001b[32m━━━━━━━━━━━━━━━━━━━━\u001b[0m\u001b[37m\u001b[0m \u001b[1m5378s\u001b[0m 43s/step - accuracy: 0.4770 - loss: 1.3879 - val_accuracy: 0.4541 - val_loss: 1.4289\n",
            "Epoch 5/10\n",
            "\u001b[1m124/124\u001b[0m \u001b[32m━━━━━━━━━━━━━━━━━━━━\u001b[0m\u001b[37m\u001b[0m \u001b[1m5364s\u001b[0m 43s/step - accuracy: 0.4925 - loss: 1.3397 - val_accuracy: 0.4662 - val_loss: 1.4473\n",
            "Epoch 6/10\n",
            "\u001b[1m124/124\u001b[0m \u001b[32m━━━━━━━━━━━━━━━━━━━━\u001b[0m\u001b[37m\u001b[0m \u001b[1m42s\u001b[0m 20ms/step - accuracy: 0.5312 - loss: 1.3464 - val_accuracy: 0.3750 - val_loss: 1.3065\n",
            "Epoch 7/10\n",
            "\u001b[1m124/124\u001b[0m \u001b[32m━━━━━━━━━━━━━━━━━━━━\u001b[0m\u001b[37m\u001b[0m \u001b[1m5305s\u001b[0m 43s/step - accuracy: 0.4964 - loss: 1.3438 - val_accuracy: 0.4914 - val_loss: 1.3728\n",
            "Epoch 8/10\n",
            "\u001b[1m124/124\u001b[0m \u001b[32m━━━━━━━━━━━━━━━━━━━━\u001b[0m\u001b[37m\u001b[0m \u001b[1m5271s\u001b[0m 43s/step - accuracy: 0.4922 - loss: 1.3207 - val_accuracy: 0.4844 - val_loss: 1.3679\n",
            "Epoch 9/10\n",
            "\u001b[1m124/124\u001b[0m \u001b[32m━━━━━━━━━━━━━━━━━━━━\u001b[0m\u001b[37m\u001b[0m \u001b[1m40s\u001b[0m 16ms/step - accuracy: 0.4531 - loss: 1.3885 - val_accuracy: 0.5000 - val_loss: 1.1278\n",
            "Epoch 10/10\n",
            "\u001b[1m124/124\u001b[0m \u001b[32m━━━━━━━━━━━━━━━━━━━━\u001b[0m\u001b[37m\u001b[0m \u001b[1m5219s\u001b[0m 42s/step - accuracy: 0.5007 - loss: 1.3106 - val_accuracy: 0.5091 - val_loss: 1.3362\n"
          ]
        }
      ],
      "source": [
        "steps_per_epoch = training_set.n // 128\n",
        "validation_steps = validation_set.n // 128\n",
        "\n",
        "VGG19.compile(optimizer = 'adam',\n",
        "              loss=tf.keras.losses.CategoricalCrossentropy(),\n",
        "              metrics=['accuracy']) \n",
        "\n",
        "batch_size = 40\n",
        "history = VGG19.fit(x=training_set,\n",
        "                    validation_data=validation_set,\n",
        "                    epochs=10,\n",
        "                    steps_per_epoch=steps_per_epoch,\n",
        "                    validation_steps=validation_steps                                                                                                                                                                                                                                                                                                                                                                                                                      \n",
        "                    )\n"
      ]
    },
    {
      "cell_type": "code",
      "execution_count": 19,
      "metadata": {},
      "outputs": [],
      "source": [
        "VGG19.save('VGG19Augmented_TrainableDikit2.keras')"
      ]
    },
    {
      "cell_type": "code",
      "execution_count": 8,
      "metadata": {},
      "outputs": [
        {
          "name": "stdout",
          "output_type": "stream",
          "text": [
            "Epoch 1/10\n"
          ]
        },
        {
          "name": "stderr",
          "output_type": "stream",
          "text": [
            "c:\\Users\\mario\\AppData\\Local\\Programs\\Python\\Python310\\lib\\site-packages\\keras\\src\\trainers\\data_adapters\\py_dataset_adapter.py:121: UserWarning: Your `PyDataset` class should call `super().__init__(**kwargs)` in its constructor. `**kwargs` can include `workers`, `use_multiprocessing`, `max_queue_size`. Do not pass these arguments to `fit()`, as they will be ignored.\n",
            "  self._warn_if_super_not_called()\n"
          ]
        },
        {
          "name": "stdout",
          "output_type": "stream",
          "text": [
            "\u001b[1m124/124\u001b[0m \u001b[32m━━━━━━━━━━━━━━━━━━━━\u001b[0m\u001b[37m\u001b[0m \u001b[1m4452s\u001b[0m 36s/step - accuracy: 0.5138 - loss: 1.2910\n",
            "Epoch 2/10\n",
            "\u001b[1m124/124\u001b[0m \u001b[32m━━━━━━━━━━━━━━━━━━━━\u001b[0m\u001b[37m\u001b[0m \u001b[1m4391s\u001b[0m 35s/step - accuracy: 0.5308 - loss: 1.2576\n",
            "Epoch 3/10\n",
            "\u001b[1m124/124\u001b[0m \u001b[32m━━━━━━━━━━━━━━━━━━━━\u001b[0m\u001b[37m\u001b[0m \u001b[1m38s\u001b[0m 6ms/step - accuracy: 0.5312 - loss: 1.2969    \n",
            "Epoch 4/10\n"
          ]
        },
        {
          "name": "stderr",
          "output_type": "stream",
          "text": [
            "c:\\Users\\mario\\AppData\\Local\\Programs\\Python\\Python310\\lib\\contextlib.py:153: UserWarning: Your input ran out of data; interrupting training. Make sure that your dataset or generator can generate at least `steps_per_epoch * epochs` batches. You may need to use the `.repeat()` function when building your dataset.\n",
            "  self.gen.throw(typ, value, traceback)\n"
          ]
        },
        {
          "name": "stdout",
          "output_type": "stream",
          "text": [
            "\u001b[1m124/124\u001b[0m \u001b[32m━━━━━━━━━━━━━━━━━━━━\u001b[0m\u001b[37m\u001b[0m \u001b[1m4387s\u001b[0m 35s/step - accuracy: 0.5437 - loss: 1.2125\n",
            "Epoch 5/10\n",
            "\u001b[1m124/124\u001b[0m \u001b[32m━━━━━━━━━━━━━━━━━━━━\u001b[0m\u001b[37m\u001b[0m \u001b[1m4333s\u001b[0m 35s/step - accuracy: 0.5409 - loss: 1.2148\n",
            "Epoch 6/10\n",
            "\u001b[1m124/124\u001b[0m \u001b[32m━━━━━━━━━━━━━━━━━━━━\u001b[0m\u001b[37m\u001b[0m \u001b[1m34s\u001b[0m 3ms/step - accuracy: 0.6094 - loss: 0.9438    \n",
            "Epoch 7/10\n",
            "\u001b[1m124/124\u001b[0m \u001b[32m━━━━━━━━━━━━━━━━━━━━\u001b[0m\u001b[37m\u001b[0m \u001b[1m4349s\u001b[0m 35s/step - accuracy: 0.5678 - loss: 1.1748\n",
            "Epoch 8/10\n",
            "\u001b[1m124/124\u001b[0m \u001b[32m━━━━━━━━━━━━━━━━━━━━\u001b[0m\u001b[37m\u001b[0m \u001b[1m4447s\u001b[0m 36s/step - accuracy: 0.5603 - loss: 1.1768\n",
            "Epoch 9/10\n",
            "\u001b[1m124/124\u001b[0m \u001b[32m━━━━━━━━━━━━━━━━━━━━\u001b[0m\u001b[37m\u001b[0m \u001b[1m35s\u001b[0m 3ms/step - accuracy: 0.5625 - loss: 1.1806    \n",
            "Epoch 10/10\n",
            "\u001b[1m124/124\u001b[0m \u001b[32m━━━━━━━━━━━━━━━━━━━━\u001b[0m\u001b[37m\u001b[0m \u001b[1m4585s\u001b[0m 37s/step - accuracy: 0.5787 - loss: 1.1602\n"
          ]
        }
      ],
      "source": [
        "steps_per_epoch = training_set.n // 128\n",
        "validation_steps = validation_set.n // 128\n",
        "\n",
        "VGG19.compile(optimizer = 'adam',\n",
        "              loss=tf.keras.losses.CategoricalCrossentropy(),\n",
        "              metrics=['accuracy']) \n",
        "\n",
        "batch_size = 40\n",
        "history = VGG19.fit(x=training_set,\n",
        "                    # validation_data=validation_set,\n",
        "                    epochs=10,\n",
        "                    steps_per_epoch=steps_per_epoch,\n",
        "                    # validation_steps=validation_steps                                                                                                                                                                                                                                                                                                                                                                                                                      \n",
        "                    )\n"
      ]
    },
    {
      "cell_type": "code",
      "execution_count": 9,
      "metadata": {},
      "outputs": [],
      "source": [
        "VGG19.save('VGG19Augmented_TrainableDikit3.keras')"
      ]
    },
    {
      "cell_type": "code",
      "execution_count": 7,
      "metadata": {},
      "outputs": [
        {
          "name": "stdout",
          "output_type": "stream",
          "text": [
            "Epoch 1/21\n",
            "\u001b[1m124/124\u001b[0m \u001b[32m━━━━━━━━━━━━━━━━━━━━\u001b[0m\u001b[37m\u001b[0m \u001b[1m4490s\u001b[0m 36s/step - accuracy: 0.5630 - loss: 1.1567\n",
            "Epoch 2/21\n",
            "\u001b[1m124/124\u001b[0m \u001b[32m━━━━━━━━━━━━━━━━━━━━\u001b[0m\u001b[37m\u001b[0m \u001b[1m4503s\u001b[0m 36s/step - accuracy: 0.5833 - loss: 1.1240\n",
            "Epoch 3/21\n",
            "\u001b[1m124/124\u001b[0m \u001b[32m━━━━━━━━━━━━━━━━━━━━\u001b[0m\u001b[37m\u001b[0m \u001b[1m35s\u001b[0m 5ms/step - accuracy: 0.6719 - loss: 0.8340    \n",
            "Epoch 4/21\n"
          ]
        },
        {
          "name": "stderr",
          "output_type": "stream",
          "text": [
            "c:\\Users\\mario\\AppData\\Local\\Programs\\Python\\Python310\\lib\\contextlib.py:153: UserWarning: Your input ran out of data; interrupting training. Make sure that your dataset or generator can generate at least `steps_per_epoch * epochs` batches. You may need to use the `.repeat()` function when building your dataset.\n",
            "  self.gen.throw(typ, value, traceback)\n"
          ]
        },
        {
          "name": "stdout",
          "output_type": "stream",
          "text": [
            "\u001b[1m124/124\u001b[0m \u001b[32m━━━━━━━━━━━━━━━━━━━━\u001b[0m\u001b[37m\u001b[0m \u001b[1m4361s\u001b[0m 35s/step - accuracy: 0.5732 - loss: 1.1255\n",
            "Epoch 5/21\n",
            "\u001b[1m124/124\u001b[0m \u001b[32m━━━━━━━━━━━━━━━━━━━━\u001b[0m\u001b[37m\u001b[0m \u001b[1m4515s\u001b[0m 36s/step - accuracy: 0.5871 - loss: 1.1056\n",
            "Epoch 6/21\n",
            "\u001b[1m124/124\u001b[0m \u001b[32m━━━━━━━━━━━━━━━━━━━━\u001b[0m\u001b[37m\u001b[0m \u001b[1m36s\u001b[0m 4ms/step - accuracy: 0.4844 - loss: 1.1538    \n",
            "Epoch 7/21\n",
            "\u001b[1m124/124\u001b[0m \u001b[32m━━━━━━━━━━━━━━━━━━━━\u001b[0m\u001b[37m\u001b[0m \u001b[1m4541s\u001b[0m 37s/step - accuracy: 0.5962 - loss: 1.0596\n",
            "Epoch 8/21\n",
            "\u001b[1m124/124\u001b[0m \u001b[32m━━━━━━━━━━━━━━━━━━━━\u001b[0m\u001b[37m\u001b[0m \u001b[1m4626s\u001b[0m 37s/step - accuracy: 0.6029 - loss: 1.0773\n",
            "Epoch 9/21\n",
            "\u001b[1m124/124\u001b[0m \u001b[32m━━━━━━━━━━━━━━━━━━━━\u001b[0m\u001b[37m\u001b[0m \u001b[1m38s\u001b[0m 2ms/step - accuracy: 0.5625 - loss: 1.0696    \n",
            "Epoch 10/21\n",
            "\u001b[1m124/124\u001b[0m \u001b[32m━━━━━━━━━━━━━━━━━━━━\u001b[0m\u001b[37m\u001b[0m \u001b[1m4668s\u001b[0m 38s/step - accuracy: 0.6156 - loss: 1.0341\n",
            "Epoch 11/21\n",
            "\u001b[1m124/124\u001b[0m \u001b[32m━━━━━━━━━━━━━━━━━━━━\u001b[0m\u001b[37m\u001b[0m \u001b[1m4670s\u001b[0m 38s/step - accuracy: 0.6218 - loss: 1.0305\n",
            "Epoch 12/21\n",
            "\u001b[1m124/124\u001b[0m \u001b[32m━━━━━━━━━━━━━━━━━━━━\u001b[0m\u001b[37m\u001b[0m \u001b[1m38s\u001b[0m 2ms/step - accuracy: 0.6719 - loss: 1.0498    \n",
            "Epoch 13/21\n",
            "\u001b[1m124/124\u001b[0m \u001b[32m━━━━━━━━━━━━━━━━━━━━\u001b[0m\u001b[37m\u001b[0m \u001b[1m4697s\u001b[0m 38s/step - accuracy: 0.6216 - loss: 1.0227\n",
            "Epoch 14/21\n",
            "\u001b[1m124/124\u001b[0m \u001b[32m━━━━━━━━━━━━━━━━━━━━\u001b[0m\u001b[37m\u001b[0m \u001b[1m4788s\u001b[0m 39s/step - accuracy: 0.6376 - loss: 0.9860\n",
            "Epoch 15/21\n",
            "\u001b[1m124/124\u001b[0m \u001b[32m━━━━━━━━━━━━━━━━━━━━\u001b[0m\u001b[37m\u001b[0m \u001b[1m39s\u001b[0m 4ms/step - accuracy: 0.5781 - loss: 1.1829    \n",
            "Epoch 16/21\n",
            "\u001b[1m124/124\u001b[0m \u001b[32m━━━━━━━━━━━━━━━━━━━━\u001b[0m\u001b[37m\u001b[0m \u001b[1m4841s\u001b[0m 39s/step - accuracy: 0.6283 - loss: 0.9966\n",
            "Epoch 17/21\n",
            "\u001b[1m124/124\u001b[0m \u001b[32m━━━━━━━━━━━━━━━━━━━━\u001b[0m\u001b[37m\u001b[0m \u001b[1m4741s\u001b[0m 38s/step - accuracy: 0.6309 - loss: 0.9846\n",
            "Epoch 18/21\n",
            "\u001b[1m124/124\u001b[0m \u001b[32m━━━━━━━━━━━━━━━━━━━━\u001b[0m\u001b[37m\u001b[0m \u001b[1m36s\u001b[0m 2ms/step - accuracy: 0.5938 - loss: 0.9571    \n",
            "Epoch 19/21\n",
            "\u001b[1m124/124\u001b[0m \u001b[32m━━━━━━━━━━━━━━━━━━━━\u001b[0m\u001b[37m\u001b[0m \u001b[1m4719s\u001b[0m 38s/step - accuracy: 0.6498 - loss: 0.9410\n",
            "Epoch 20/21\n",
            "\u001b[1m124/124\u001b[0m \u001b[32m━━━━━━━━━━━━━━━━━━━━\u001b[0m\u001b[37m\u001b[0m \u001b[1m4760s\u001b[0m 38s/step - accuracy: 0.6445 - loss: 0.9565\n",
            "Epoch 21/21\n",
            "\u001b[1m124/124\u001b[0m \u001b[32m━━━━━━━━━━━━━━━━━━━━\u001b[0m\u001b[37m\u001b[0m \u001b[1m40s\u001b[0m 2ms/step - accuracy: 0.6406 - loss: 0.8693    \n"
          ]
        }
      ],
      "source": [
        "steps_per_epoch = training_set.n // 128\n",
        "validation_steps = validation_set.n // 128\n",
        "\n",
        "VGG19.compile(optimizer = 'adam',\n",
        "              loss=tf.keras.losses.CategoricalCrossentropy(),\n",
        "              metrics=['accuracy']) \n",
        "\n",
        "batch_size = 40\n",
        "history = VGG19.fit(x=training_set,\n",
        "                    # validation_data=validation_set,\n",
        "                    epochs=21,\n",
        "                    steps_per_epoch=steps_per_epoch,\n",
        "                    # validation_steps=validation_steps                                                                                                                                                                                                                                                                                                                                                                                                                      \n",
        "                    )\n"
      ]
    },
    {
      "cell_type": "code",
      "execution_count": 8,
      "metadata": {},
      "outputs": [],
      "source": [
        "VGG19.save('VGG19Augmented_TrainableDikit4.keras')"
      ]
    },
    {
      "cell_type": "code",
      "execution_count": 9,
      "metadata": {},
      "outputs": [
        {
          "name": "stdout",
          "output_type": "stream",
          "text": [
            "Epoch 1/15\n",
            "\u001b[1m124/124\u001b[0m \u001b[32m━━━━━━━━━━━━━━━━━━━━\u001b[0m\u001b[37m\u001b[0m \u001b[1m5010s\u001b[0m 40s/step - accuracy: 0.6527 - loss: 0.9488\n",
            "Epoch 2/15\n",
            "\u001b[1m124/124\u001b[0m \u001b[32m━━━━━━━━━━━━━━━━━━━━\u001b[0m\u001b[37m\u001b[0m \u001b[1m4962s\u001b[0m 40s/step - accuracy: 0.6477 - loss: 0.9514\n",
            "Epoch 3/15\n",
            "\u001b[1m124/124\u001b[0m \u001b[32m━━━━━━━━━━━━━━━━━━━━\u001b[0m\u001b[37m\u001b[0m \u001b[1m39s\u001b[0m 2ms/step - accuracy: 0.6406 - loss: 1.0763    \n",
            "Epoch 4/15\n",
            "\u001b[1m124/124\u001b[0m \u001b[32m━━━━━━━━━━━━━━━━━━━━\u001b[0m\u001b[37m\u001b[0m \u001b[1m4814s\u001b[0m 39s/step - accuracy: 0.6397 - loss: 0.9373\n",
            "Epoch 5/15\n",
            "\u001b[1m124/124\u001b[0m \u001b[32m━━━━━━━━━━━━━━━━━━━━\u001b[0m\u001b[37m\u001b[0m \u001b[1m4889s\u001b[0m 39s/step - accuracy: 0.6706 - loss: 0.9033\n",
            "Epoch 6/15\n",
            "\u001b[1m124/124\u001b[0m \u001b[32m━━━━━━━━━━━━━━━━━━━━\u001b[0m\u001b[37m\u001b[0m \u001b[1m41s\u001b[0m 2ms/step - accuracy: 0.5938 - loss: 1.0578    \n",
            "Epoch 7/15\n",
            "\u001b[1m124/124\u001b[0m \u001b[32m━━━━━━━━━━━━━━━━━━━━\u001b[0m\u001b[37m\u001b[0m \u001b[1m5004s\u001b[0m 40s/step - accuracy: 0.6716 - loss: 0.8869\n",
            "Epoch 8/15\n",
            "\u001b[1m124/124\u001b[0m \u001b[32m━━━━━━━━━━━━━━━━━━━━\u001b[0m\u001b[37m\u001b[0m \u001b[1m4954s\u001b[0m 40s/step - accuracy: 0.6794 - loss: 0.8702\n",
            "Epoch 9/15\n",
            "\u001b[1m124/124\u001b[0m \u001b[32m━━━━━━━━━━━━━━━━━━━━\u001b[0m\u001b[37m\u001b[0m \u001b[1m39s\u001b[0m 3ms/step - accuracy: 0.7031 - loss: 0.8580    \n",
            "Epoch 10/15\n",
            "\u001b[1m124/124\u001b[0m \u001b[32m━━━━━━━━━━━━━━━━━━━━\u001b[0m\u001b[37m\u001b[0m \u001b[1m4898s\u001b[0m 39s/step - accuracy: 0.6863 - loss: 0.8543\n",
            "Epoch 11/15\n",
            "\u001b[1m124/124\u001b[0m \u001b[32m━━━━━━━━━━━━━━━━━━━━\u001b[0m\u001b[37m\u001b[0m \u001b[1m4905s\u001b[0m 40s/step - accuracy: 0.6834 - loss: 0.8590\n",
            "Epoch 12/15\n",
            "\u001b[1m124/124\u001b[0m \u001b[32m━━━━━━━━━━━━━━━━━━━━\u001b[0m\u001b[37m\u001b[0m \u001b[1m40s\u001b[0m 3ms/step - accuracy: 0.6094 - loss: 0.9862    \n",
            "Epoch 13/15\n",
            "\u001b[1m124/124\u001b[0m \u001b[32m━━━━━━━━━━━━━━━━━━━━\u001b[0m\u001b[37m\u001b[0m \u001b[1m4510s\u001b[0m 36s/step - accuracy: 0.6912 - loss: 0.8362\n",
            "Epoch 14/15\n",
            "\u001b[1m124/124\u001b[0m \u001b[32m━━━━━━━━━━━━━━━━━━━━\u001b[0m\u001b[37m\u001b[0m \u001b[1m4303s\u001b[0m 35s/step - accuracy: 0.6984 - loss: 0.8278\n",
            "Epoch 15/15\n",
            "\u001b[1m124/124\u001b[0m \u001b[32m━━━━━━━━━━━━━━━━━━━━\u001b[0m\u001b[37m\u001b[0m \u001b[1m34s\u001b[0m 5ms/step - accuracy: 0.6562 - loss: 0.7817    \n"
          ]
        }
      ],
      "source": [
        "steps_per_epoch = training_set.n // 128\n",
        "validation_steps = validation_set.n // 128\n",
        "\n",
        "VGG19.compile(optimizer = 'adam',\n",
        "              loss=tf.keras.losses.CategoricalCrossentropy(),\n",
        "              metrics=['accuracy']) \n",
        "\n",
        "batch_size = 40\n",
        "history = VGG19.fit(x=training_set,\n",
        "                    # validation_data=validation_set,\n",
        "                    epochs=15,\n",
        "                    steps_per_epoch=steps_per_epoch,\n",
        "                    # validation_steps=validation_steps                                                                                                                                                                                                                                                                                                                                                                                                                      \n",
        "                    )\n"
      ]
    },
    {
      "cell_type": "code",
      "execution_count": 10,
      "metadata": {},
      "outputs": [],
      "source": [
        "VGG19.save('VGG19Augmented_TrainableDikit5.keras')"
      ]
    },
    {
      "cell_type": "code",
      "execution_count": 11,
      "metadata": {},
      "outputs": [
        {
          "name": "stdout",
          "output_type": "stream",
          "text": [
            "Epoch 1/3\n",
            "\u001b[1m124/124\u001b[0m \u001b[32m━━━━━━━━━━━━━━━━━━━━\u001b[0m\u001b[37m\u001b[0m \u001b[1m4467s\u001b[0m 36s/step - accuracy: 0.6975 - loss: 0.8103\n",
            "Epoch 2/3\n",
            "\u001b[1m124/124\u001b[0m \u001b[32m━━━━━━━━━━━━━━━━━━━━\u001b[0m\u001b[37m\u001b[0m \u001b[1m4446s\u001b[0m 36s/step - accuracy: 0.7138 - loss: 0.7910\n",
            "Epoch 3/3\n",
            "\u001b[1m124/124\u001b[0m \u001b[32m━━━━━━━━━━━━━━━━━━━━\u001b[0m\u001b[37m\u001b[0m \u001b[1m38s\u001b[0m 4ms/step - accuracy: 0.7188 - loss: 0.8244    \n"
          ]
        }
      ],
      "source": [
        "steps_per_epoch = training_set.n // 128\n",
        "validation_steps = validation_set.n // 128\n",
        "\n",
        "VGG19.compile(optimizer = 'adam',\n",
        "              loss=tf.keras.losses.CategoricalCrossentropy(),\n",
        "              metrics=['accuracy']) \n",
        "\n",
        "batch_size = 40\n",
        "history = VGG19.fit(x=training_set,\n",
        "                    # validation_data=validation_set,\n",
        "                    epochs=3,\n",
        "                    steps_per_epoch=steps_per_epoch,\n",
        "                    # validation_steps=validation_steps                                                                                                                                                                                                                                                                                                                                                                                                                      \n",
        "                    )\n"
      ]
    },
    {
      "cell_type": "code",
      "execution_count": 12,
      "metadata": {},
      "outputs": [],
      "source": [
        "VGG19.save('VGG19Augmented_TrainableDikit6.keras')"
      ]
    },
    {
      "cell_type": "markdown",
      "metadata": {},
      "source": [
        "## Train Freeze (100 epoch, tidak kesave)"
      ]
    },
    {
      "cell_type": "code",
      "execution_count": 20,
      "metadata": {},
      "outputs": [],
      "source": [
        "VGG19freeze1 = tf.keras.models.load_model('VGG19Augmented_Freeze1.keras')"
      ]
    },
    {
      "cell_type": "code",
      "execution_count": 13,
      "metadata": {},
      "outputs": [],
      "source": [
        "VGG19freeze2 = tf.keras.models.load_model('VGG19Augmented_Freeze2.keras')"
      ]
    },
    {
      "cell_type": "code",
      "execution_count": 14,
      "metadata": {},
      "outputs": [],
      "source": [
        "VGG19freeze3 = tf.keras.models.load_model('VGG19Augmented_Freeze3.keras')"
      ]
    },
    {
      "cell_type": "code",
      "execution_count": 24,
      "metadata": {},
      "outputs": [],
      "source": [
        "VGG19_FullFreeze = tf.keras.models.load_model('VGG19Augmented_Freeze4.keras')"
      ]
    },
    {
      "cell_type": "code",
      "execution_count": null,
      "metadata": {},
      "outputs": [
        {
          "name": "stderr",
          "output_type": "stream",
          "text": [
            "c:\\Users\\mario\\AppData\\Local\\Programs\\Python\\Python310\\lib\\site-packages\\keras\\src\\trainers\\data_adapters\\py_dataset_adapter.py:121: UserWarning: Your `PyDataset` class should call `super().__init__(**kwargs)` in its constructor. `**kwargs` can include `workers`, `use_multiprocessing`, `max_queue_size`. Do not pass these arguments to `fit()`, as they will be ignored.\n",
            "  self._warn_if_super_not_called()\n"
          ]
        },
        {
          "name": "stdout",
          "output_type": "stream",
          "text": [
            "\u001b[1m249/249\u001b[0m \u001b[32m━━━━━━━━━━━━━━━━━━━━\u001b[0m\u001b[37m\u001b[0m \u001b[1m1874s\u001b[0m 8s/step - accuracy: 0.6684 - loss: 0.9425\n"
          ]
        },
        {
          "data": {
            "text/plain": [
              "[0.9451608657836914, 0.6618727445602417]"
            ]
          },
          "metadata": {},
          "output_type": "display_data"
        }
      ],
      "source": [
        "VGG19_FullFreeze.evaluate(training_set)"
      ]
    }
  ],
  "metadata": {
    "accelerator": "GPU",
    "colab": {
      "gpuType": "T4",
      "provenance": []
    },
    "kernelspec": {
      "display_name": "Python 3",
      "name": "python3"
    },
    "language_info": {
      "codemirror_mode": {
        "name": "ipython",
        "version": 3
      },
      "file_extension": ".py",
      "mimetype": "text/x-python",
      "name": "python",
      "nbconvert_exporter": "python",
      "pygments_lexer": "ipython3",
      "version": "3.10.6"
    }
  },
  "nbformat": 4,
  "nbformat_minor": 0
}
